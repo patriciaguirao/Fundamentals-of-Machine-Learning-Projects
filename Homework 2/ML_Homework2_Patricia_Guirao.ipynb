{
 "cells": [
  {
   "cell_type": "code",
   "execution_count": 339,
   "id": "49c04440",
   "metadata": {},
   "outputs": [],
   "source": [
    "import matplotlib.pyplot as plt\n",
    "import pandas as pd\n",
    "import numpy as np\n",
    "import sklearn\n",
    "from sklearn.linear_model import LinearRegression, Ridge, Lasso, LogisticRegression\n",
    "from sklearn import metrics\n",
    "from sklearn import model_selection\n",
    "import warnings\n",
    "warnings.filterwarnings('ignore') # Just to ignore warnings that might be thrown due to artifically formed data."
   ]
  },
  {
   "cell_type": "code",
   "execution_count": 340,
   "id": "a7c26c05",
   "metadata": {},
   "outputs": [],
   "source": [
    "df = pd.read_csv('techSalaries2017.csv')"
   ]
  },
  {
   "cell_type": "code",
   "execution_count": 341,
   "id": "c6d59037",
   "metadata": {},
   "outputs": [
    {
     "data": {
      "text/html": [
       "<div>\n",
       "<style scoped>\n",
       "    .dataframe tbody tr th:only-of-type {\n",
       "        vertical-align: middle;\n",
       "    }\n",
       "\n",
       "    .dataframe tbody tr th {\n",
       "        vertical-align: top;\n",
       "    }\n",
       "\n",
       "    .dataframe thead th {\n",
       "        text-align: right;\n",
       "    }\n",
       "</style>\n",
       "<table border=\"1\" class=\"dataframe\">\n",
       "  <thead>\n",
       "    <tr style=\"text-align: right;\">\n",
       "      <th></th>\n",
       "      <th>company</th>\n",
       "      <th>title</th>\n",
       "      <th>location</th>\n",
       "      <th>totalyearlycompensation</th>\n",
       "      <th>basesalary</th>\n",
       "      <th>stockgrantvalue</th>\n",
       "      <th>bonus</th>\n",
       "      <th>yearsofexperience</th>\n",
       "      <th>yearsatcompany</th>\n",
       "      <th>gender</th>\n",
       "      <th>...</th>\n",
       "      <th>Race_Two_Or_More</th>\n",
       "      <th>Race_Black</th>\n",
       "      <th>Race_Hispanic</th>\n",
       "      <th>Race</th>\n",
       "      <th>Education</th>\n",
       "      <th>Age</th>\n",
       "      <th>Height</th>\n",
       "      <th>Zodiac</th>\n",
       "      <th>SAT</th>\n",
       "      <th>GPA</th>\n",
       "    </tr>\n",
       "  </thead>\n",
       "  <tbody>\n",
       "    <tr>\n",
       "      <th>0</th>\n",
       "      <td>Oracle</td>\n",
       "      <td>Product Manager</td>\n",
       "      <td>Redwood City, CA</td>\n",
       "      <td>127000</td>\n",
       "      <td>107000</td>\n",
       "      <td>20000.0</td>\n",
       "      <td>10000.0</td>\n",
       "      <td>1.5</td>\n",
       "      <td>1.5</td>\n",
       "      <td>NaN</td>\n",
       "      <td>...</td>\n",
       "      <td>0</td>\n",
       "      <td>0</td>\n",
       "      <td>0</td>\n",
       "      <td>NaN</td>\n",
       "      <td>NaN</td>\n",
       "      <td>38</td>\n",
       "      <td>68.590</td>\n",
       "      <td>5</td>\n",
       "      <td>829</td>\n",
       "      <td>2.13</td>\n",
       "    </tr>\n",
       "    <tr>\n",
       "      <th>1</th>\n",
       "      <td>eBay</td>\n",
       "      <td>Software Engineer</td>\n",
       "      <td>San Francisco, CA</td>\n",
       "      <td>100000</td>\n",
       "      <td>0</td>\n",
       "      <td>0.0</td>\n",
       "      <td>0.0</td>\n",
       "      <td>5.0</td>\n",
       "      <td>3.0</td>\n",
       "      <td>NaN</td>\n",
       "      <td>...</td>\n",
       "      <td>0</td>\n",
       "      <td>0</td>\n",
       "      <td>0</td>\n",
       "      <td>NaN</td>\n",
       "      <td>NaN</td>\n",
       "      <td>34</td>\n",
       "      <td>68.059</td>\n",
       "      <td>7</td>\n",
       "      <td>993</td>\n",
       "      <td>2.77</td>\n",
       "    </tr>\n",
       "    <tr>\n",
       "      <th>2</th>\n",
       "      <td>Amazon</td>\n",
       "      <td>Product Manager</td>\n",
       "      <td>Seattle, WA</td>\n",
       "      <td>310000</td>\n",
       "      <td>155000</td>\n",
       "      <td>0.0</td>\n",
       "      <td>0.0</td>\n",
       "      <td>8.0</td>\n",
       "      <td>0.0</td>\n",
       "      <td>NaN</td>\n",
       "      <td>...</td>\n",
       "      <td>0</td>\n",
       "      <td>0</td>\n",
       "      <td>0</td>\n",
       "      <td>NaN</td>\n",
       "      <td>NaN</td>\n",
       "      <td>42</td>\n",
       "      <td>61.343</td>\n",
       "      <td>3</td>\n",
       "      <td>1200</td>\n",
       "      <td>3.26</td>\n",
       "    </tr>\n",
       "    <tr>\n",
       "      <th>3</th>\n",
       "      <td>Apple</td>\n",
       "      <td>Software Engineering Manager</td>\n",
       "      <td>Sunnyvale, CA</td>\n",
       "      <td>372000</td>\n",
       "      <td>157000</td>\n",
       "      <td>180000.0</td>\n",
       "      <td>35000.0</td>\n",
       "      <td>7.0</td>\n",
       "      <td>5.0</td>\n",
       "      <td>NaN</td>\n",
       "      <td>...</td>\n",
       "      <td>0</td>\n",
       "      <td>0</td>\n",
       "      <td>0</td>\n",
       "      <td>NaN</td>\n",
       "      <td>NaN</td>\n",
       "      <td>28</td>\n",
       "      <td>66.495</td>\n",
       "      <td>3</td>\n",
       "      <td>1170</td>\n",
       "      <td>3.07</td>\n",
       "    </tr>\n",
       "    <tr>\n",
       "      <th>4</th>\n",
       "      <td>Microsoft</td>\n",
       "      <td>Software Engineer</td>\n",
       "      <td>Mountain View, CA</td>\n",
       "      <td>157000</td>\n",
       "      <td>0</td>\n",
       "      <td>0.0</td>\n",
       "      <td>0.0</td>\n",
       "      <td>5.0</td>\n",
       "      <td>3.0</td>\n",
       "      <td>NaN</td>\n",
       "      <td>...</td>\n",
       "      <td>0</td>\n",
       "      <td>0</td>\n",
       "      <td>0</td>\n",
       "      <td>NaN</td>\n",
       "      <td>NaN</td>\n",
       "      <td>34</td>\n",
       "      <td>69.015</td>\n",
       "      <td>2</td>\n",
       "      <td>1115</td>\n",
       "      <td>2.91</td>\n",
       "    </tr>\n",
       "    <tr>\n",
       "      <th>...</th>\n",
       "      <td>...</td>\n",
       "      <td>...</td>\n",
       "      <td>...</td>\n",
       "      <td>...</td>\n",
       "      <td>...</td>\n",
       "      <td>...</td>\n",
       "      <td>...</td>\n",
       "      <td>...</td>\n",
       "      <td>...</td>\n",
       "      <td>...</td>\n",
       "      <td>...</td>\n",
       "      <td>...</td>\n",
       "      <td>...</td>\n",
       "      <td>...</td>\n",
       "      <td>...</td>\n",
       "      <td>...</td>\n",
       "      <td>...</td>\n",
       "      <td>...</td>\n",
       "      <td>...</td>\n",
       "      <td>...</td>\n",
       "      <td>...</td>\n",
       "    </tr>\n",
       "    <tr>\n",
       "      <th>62637</th>\n",
       "      <td>Google</td>\n",
       "      <td>Software Engineer</td>\n",
       "      <td>Seattle, WA</td>\n",
       "      <td>327000</td>\n",
       "      <td>155000</td>\n",
       "      <td>150000.0</td>\n",
       "      <td>22000.0</td>\n",
       "      <td>10.0</td>\n",
       "      <td>1.0</td>\n",
       "      <td>NaN</td>\n",
       "      <td>...</td>\n",
       "      <td>0</td>\n",
       "      <td>0</td>\n",
       "      <td>0</td>\n",
       "      <td>NaN</td>\n",
       "      <td>NaN</td>\n",
       "      <td>52</td>\n",
       "      <td>64.792</td>\n",
       "      <td>6</td>\n",
       "      <td>1064</td>\n",
       "      <td>2.76</td>\n",
       "    </tr>\n",
       "    <tr>\n",
       "      <th>62638</th>\n",
       "      <td>Microsoft</td>\n",
       "      <td>Software Engineer</td>\n",
       "      <td>Redmond, WA</td>\n",
       "      <td>237000</td>\n",
       "      <td>146900</td>\n",
       "      <td>73200.0</td>\n",
       "      <td>16000.0</td>\n",
       "      <td>2.0</td>\n",
       "      <td>2.0</td>\n",
       "      <td>NaN</td>\n",
       "      <td>...</td>\n",
       "      <td>0</td>\n",
       "      <td>0</td>\n",
       "      <td>0</td>\n",
       "      <td>NaN</td>\n",
       "      <td>NaN</td>\n",
       "      <td>21</td>\n",
       "      <td>69.483</td>\n",
       "      <td>9</td>\n",
       "      <td>1160</td>\n",
       "      <td>3.27</td>\n",
       "    </tr>\n",
       "    <tr>\n",
       "      <th>62639</th>\n",
       "      <td>MSFT</td>\n",
       "      <td>Software Engineer</td>\n",
       "      <td>Seattle, WA</td>\n",
       "      <td>220000</td>\n",
       "      <td>157000</td>\n",
       "      <td>25000.0</td>\n",
       "      <td>20000.0</td>\n",
       "      <td>14.0</td>\n",
       "      <td>12.0</td>\n",
       "      <td>NaN</td>\n",
       "      <td>...</td>\n",
       "      <td>0</td>\n",
       "      <td>0</td>\n",
       "      <td>0</td>\n",
       "      <td>NaN</td>\n",
       "      <td>NaN</td>\n",
       "      <td>43</td>\n",
       "      <td>62.331</td>\n",
       "      <td>12</td>\n",
       "      <td>1014</td>\n",
       "      <td>2.78</td>\n",
       "    </tr>\n",
       "    <tr>\n",
       "      <th>62640</th>\n",
       "      <td>Salesforce</td>\n",
       "      <td>Software Engineer</td>\n",
       "      <td>San Francisco, CA</td>\n",
       "      <td>280000</td>\n",
       "      <td>194688</td>\n",
       "      <td>57000.0</td>\n",
       "      <td>29000.0</td>\n",
       "      <td>8.0</td>\n",
       "      <td>4.0</td>\n",
       "      <td>NaN</td>\n",
       "      <td>...</td>\n",
       "      <td>0</td>\n",
       "      <td>0</td>\n",
       "      <td>0</td>\n",
       "      <td>NaN</td>\n",
       "      <td>NaN</td>\n",
       "      <td>48</td>\n",
       "      <td>70.357</td>\n",
       "      <td>10</td>\n",
       "      <td>1109</td>\n",
       "      <td>3.04</td>\n",
       "    </tr>\n",
       "    <tr>\n",
       "      <th>62641</th>\n",
       "      <td>apple</td>\n",
       "      <td>Software Engineer</td>\n",
       "      <td>Sunnyvale, CA</td>\n",
       "      <td>200000</td>\n",
       "      <td>155000</td>\n",
       "      <td>27000.0</td>\n",
       "      <td>19000.0</td>\n",
       "      <td>0.0</td>\n",
       "      <td>0.0</td>\n",
       "      <td>Male</td>\n",
       "      <td>...</td>\n",
       "      <td>0</td>\n",
       "      <td>0</td>\n",
       "      <td>0</td>\n",
       "      <td>NaN</td>\n",
       "      <td>NaN</td>\n",
       "      <td>34</td>\n",
       "      <td>63.063</td>\n",
       "      <td>1</td>\n",
       "      <td>1219</td>\n",
       "      <td>3.21</td>\n",
       "    </tr>\n",
       "  </tbody>\n",
       "</table>\n",
       "<p>62642 rows × 27 columns</p>\n",
       "</div>"
      ],
      "text/plain": [
       "          company                         title           location  \\\n",
       "0          Oracle               Product Manager   Redwood City, CA   \n",
       "1            eBay             Software Engineer  San Francisco, CA   \n",
       "2          Amazon               Product Manager        Seattle, WA   \n",
       "3           Apple  Software Engineering Manager      Sunnyvale, CA   \n",
       "4       Microsoft             Software Engineer  Mountain View, CA   \n",
       "...           ...                           ...                ...   \n",
       "62637      Google             Software Engineer        Seattle, WA   \n",
       "62638   Microsoft             Software Engineer        Redmond, WA   \n",
       "62639        MSFT             Software Engineer        Seattle, WA   \n",
       "62640  Salesforce             Software Engineer  San Francisco, CA   \n",
       "62641       apple             Software Engineer      Sunnyvale, CA   \n",
       "\n",
       "       totalyearlycompensation  basesalary  stockgrantvalue    bonus  \\\n",
       "0                       127000      107000          20000.0  10000.0   \n",
       "1                       100000           0              0.0      0.0   \n",
       "2                       310000      155000              0.0      0.0   \n",
       "3                       372000      157000         180000.0  35000.0   \n",
       "4                       157000           0              0.0      0.0   \n",
       "...                        ...         ...              ...      ...   \n",
       "62637                   327000      155000         150000.0  22000.0   \n",
       "62638                   237000      146900          73200.0  16000.0   \n",
       "62639                   220000      157000          25000.0  20000.0   \n",
       "62640                   280000      194688          57000.0  29000.0   \n",
       "62641                   200000      155000          27000.0  19000.0   \n",
       "\n",
       "       yearsofexperience  yearsatcompany gender  ...  Race_Two_Or_More  \\\n",
       "0                    1.5             1.5    NaN  ...                 0   \n",
       "1                    5.0             3.0    NaN  ...                 0   \n",
       "2                    8.0             0.0    NaN  ...                 0   \n",
       "3                    7.0             5.0    NaN  ...                 0   \n",
       "4                    5.0             3.0    NaN  ...                 0   \n",
       "...                  ...             ...    ...  ...               ...   \n",
       "62637               10.0             1.0    NaN  ...                 0   \n",
       "62638                2.0             2.0    NaN  ...                 0   \n",
       "62639               14.0            12.0    NaN  ...                 0   \n",
       "62640                8.0             4.0    NaN  ...                 0   \n",
       "62641                0.0             0.0   Male  ...                 0   \n",
       "\n",
       "       Race_Black  Race_Hispanic  Race  Education  Age  Height  Zodiac   SAT  \\\n",
       "0               0              0   NaN        NaN   38  68.590       5   829   \n",
       "1               0              0   NaN        NaN   34  68.059       7   993   \n",
       "2               0              0   NaN        NaN   42  61.343       3  1200   \n",
       "3               0              0   NaN        NaN   28  66.495       3  1170   \n",
       "4               0              0   NaN        NaN   34  69.015       2  1115   \n",
       "...           ...            ...   ...        ...  ...     ...     ...   ...   \n",
       "62637           0              0   NaN        NaN   52  64.792       6  1064   \n",
       "62638           0              0   NaN        NaN   21  69.483       9  1160   \n",
       "62639           0              0   NaN        NaN   43  62.331      12  1014   \n",
       "62640           0              0   NaN        NaN   48  70.357      10  1109   \n",
       "62641           0              0   NaN        NaN   34  63.063       1  1219   \n",
       "\n",
       "        GPA  \n",
       "0      2.13  \n",
       "1      2.77  \n",
       "2      3.26  \n",
       "3      3.07  \n",
       "4      2.91  \n",
       "...     ...  \n",
       "62637  2.76  \n",
       "62638  3.27  \n",
       "62639  2.78  \n",
       "62640  3.04  \n",
       "62641  3.21  \n",
       "\n",
       "[62642 rows x 27 columns]"
      ]
     },
     "execution_count": 341,
     "metadata": {},
     "output_type": "execute_result"
    }
   ],
   "source": [
    "df"
   ]
  },
  {
   "cell_type": "markdown",
   "id": "8476d0b0",
   "metadata": {},
   "source": [
    "# "
   ]
  },
  {
   "cell_type": "markdown",
   "id": "66e1d980",
   "metadata": {},
   "source": [
    "# Question 1"
   ]
  },
  {
   "cell_type": "code",
   "execution_count": 342,
   "id": "5a4f7e75",
   "metadata": {},
   "outputs": [
    {
     "data": {
      "text/html": [
       "<div>\n",
       "<style scoped>\n",
       "    .dataframe tbody tr th:only-of-type {\n",
       "        vertical-align: middle;\n",
       "    }\n",
       "\n",
       "    .dataframe tbody tr th {\n",
       "        vertical-align: top;\n",
       "    }\n",
       "\n",
       "    .dataframe thead th {\n",
       "        text-align: right;\n",
       "    }\n",
       "</style>\n",
       "<table border=\"1\" class=\"dataframe\">\n",
       "  <thead>\n",
       "    <tr style=\"text-align: right;\">\n",
       "      <th></th>\n",
       "      <th>company</th>\n",
       "      <th>title</th>\n",
       "      <th>location</th>\n",
       "      <th>totalyearlycompensation</th>\n",
       "      <th>basesalary</th>\n",
       "      <th>stockgrantvalue</th>\n",
       "      <th>bonus</th>\n",
       "      <th>yearsofexperience</th>\n",
       "      <th>yearsatcompany</th>\n",
       "      <th>gender</th>\n",
       "      <th>...</th>\n",
       "      <th>Race_Two_Or_More</th>\n",
       "      <th>Race_Black</th>\n",
       "      <th>Race_Hispanic</th>\n",
       "      <th>Race</th>\n",
       "      <th>Education</th>\n",
       "      <th>Age</th>\n",
       "      <th>Height</th>\n",
       "      <th>Zodiac</th>\n",
       "      <th>SAT</th>\n",
       "      <th>GPA</th>\n",
       "    </tr>\n",
       "  </thead>\n",
       "  <tbody>\n",
       "    <tr>\n",
       "      <th>15710</th>\n",
       "      <td>Google</td>\n",
       "      <td>Software Engineer</td>\n",
       "      <td>Sunnyvale, CA</td>\n",
       "      <td>400000</td>\n",
       "      <td>210000</td>\n",
       "      <td>145000.0</td>\n",
       "      <td>45000.0</td>\n",
       "      <td>5.0</td>\n",
       "      <td>5.0</td>\n",
       "      <td>Male</td>\n",
       "      <td>...</td>\n",
       "      <td>0</td>\n",
       "      <td>0</td>\n",
       "      <td>0</td>\n",
       "      <td>Asian</td>\n",
       "      <td>PhD</td>\n",
       "      <td>45</td>\n",
       "      <td>68.891</td>\n",
       "      <td>9</td>\n",
       "      <td>1166</td>\n",
       "      <td>3.04</td>\n",
       "    </tr>\n",
       "    <tr>\n",
       "      <th>23532</th>\n",
       "      <td>Microsoft</td>\n",
       "      <td>Software Engineer</td>\n",
       "      <td>Redmond, WA</td>\n",
       "      <td>136000</td>\n",
       "      <td>124000</td>\n",
       "      <td>1000.0</td>\n",
       "      <td>11000.0</td>\n",
       "      <td>3.0</td>\n",
       "      <td>2.0</td>\n",
       "      <td>Male</td>\n",
       "      <td>...</td>\n",
       "      <td>1</td>\n",
       "      <td>0</td>\n",
       "      <td>0</td>\n",
       "      <td>Two Or More</td>\n",
       "      <td>Bachelor's Degree</td>\n",
       "      <td>24</td>\n",
       "      <td>61.454</td>\n",
       "      <td>12</td>\n",
       "      <td>1175</td>\n",
       "      <td>3.07</td>\n",
       "    </tr>\n",
       "    <tr>\n",
       "      <th>23533</th>\n",
       "      <td>Google</td>\n",
       "      <td>Software Engineer</td>\n",
       "      <td>San Bruno, CA</td>\n",
       "      <td>337000</td>\n",
       "      <td>177000</td>\n",
       "      <td>125000.0</td>\n",
       "      <td>36000.0</td>\n",
       "      <td>6.0</td>\n",
       "      <td>6.0</td>\n",
       "      <td>Male</td>\n",
       "      <td>...</td>\n",
       "      <td>0</td>\n",
       "      <td>0</td>\n",
       "      <td>0</td>\n",
       "      <td>Asian</td>\n",
       "      <td>Bachelor's Degree</td>\n",
       "      <td>25</td>\n",
       "      <td>65.455</td>\n",
       "      <td>1</td>\n",
       "      <td>1268</td>\n",
       "      <td>3.34</td>\n",
       "    </tr>\n",
       "    <tr>\n",
       "      <th>23534</th>\n",
       "      <td>Microsoft</td>\n",
       "      <td>Software Engineer</td>\n",
       "      <td>Seattle, WA</td>\n",
       "      <td>222000</td>\n",
       "      <td>164000</td>\n",
       "      <td>38000.0</td>\n",
       "      <td>20000.0</td>\n",
       "      <td>4.0</td>\n",
       "      <td>4.0</td>\n",
       "      <td>Male</td>\n",
       "      <td>...</td>\n",
       "      <td>0</td>\n",
       "      <td>0</td>\n",
       "      <td>0</td>\n",
       "      <td>Asian</td>\n",
       "      <td>Master's Degree</td>\n",
       "      <td>32</td>\n",
       "      <td>73.769</td>\n",
       "      <td>8</td>\n",
       "      <td>1070</td>\n",
       "      <td>2.75</td>\n",
       "    </tr>\n",
       "    <tr>\n",
       "      <th>23535</th>\n",
       "      <td>Blend</td>\n",
       "      <td>Software Engineer</td>\n",
       "      <td>San Francisco, CA</td>\n",
       "      <td>187000</td>\n",
       "      <td>165000</td>\n",
       "      <td>22000.0</td>\n",
       "      <td>0.0</td>\n",
       "      <td>5.0</td>\n",
       "      <td>0.0</td>\n",
       "      <td>Male</td>\n",
       "      <td>...</td>\n",
       "      <td>0</td>\n",
       "      <td>0</td>\n",
       "      <td>0</td>\n",
       "      <td>White</td>\n",
       "      <td>Bachelor's Degree</td>\n",
       "      <td>29</td>\n",
       "      <td>68.710</td>\n",
       "      <td>2</td>\n",
       "      <td>1187</td>\n",
       "      <td>3.23</td>\n",
       "    </tr>\n",
       "    <tr>\n",
       "      <th>...</th>\n",
       "      <td>...</td>\n",
       "      <td>...</td>\n",
       "      <td>...</td>\n",
       "      <td>...</td>\n",
       "      <td>...</td>\n",
       "      <td>...</td>\n",
       "      <td>...</td>\n",
       "      <td>...</td>\n",
       "      <td>...</td>\n",
       "      <td>...</td>\n",
       "      <td>...</td>\n",
       "      <td>...</td>\n",
       "      <td>...</td>\n",
       "      <td>...</td>\n",
       "      <td>...</td>\n",
       "      <td>...</td>\n",
       "      <td>...</td>\n",
       "      <td>...</td>\n",
       "      <td>...</td>\n",
       "      <td>...</td>\n",
       "      <td>...</td>\n",
       "    </tr>\n",
       "    <tr>\n",
       "      <th>61981</th>\n",
       "      <td>Facebook</td>\n",
       "      <td>Software Engineering Manager</td>\n",
       "      <td>Menlo Park, CA</td>\n",
       "      <td>1470000</td>\n",
       "      <td>290000</td>\n",
       "      <td>1100.0</td>\n",
       "      <td>80000.0</td>\n",
       "      <td>9.0</td>\n",
       "      <td>7.0</td>\n",
       "      <td>Male</td>\n",
       "      <td>...</td>\n",
       "      <td>0</td>\n",
       "      <td>0</td>\n",
       "      <td>0</td>\n",
       "      <td>Asian</td>\n",
       "      <td>Bachelor's Degree</td>\n",
       "      <td>31</td>\n",
       "      <td>68.402</td>\n",
       "      <td>12</td>\n",
       "      <td>1436</td>\n",
       "      <td>3.77</td>\n",
       "    </tr>\n",
       "    <tr>\n",
       "      <th>61982</th>\n",
       "      <td>Google</td>\n",
       "      <td>Product Manager</td>\n",
       "      <td>San Francisco, CA</td>\n",
       "      <td>4500000</td>\n",
       "      <td>450000</td>\n",
       "      <td>3700.0</td>\n",
       "      <td>350000.0</td>\n",
       "      <td>20.0</td>\n",
       "      <td>14.0</td>\n",
       "      <td>Male</td>\n",
       "      <td>...</td>\n",
       "      <td>0</td>\n",
       "      <td>0</td>\n",
       "      <td>0</td>\n",
       "      <td>Asian</td>\n",
       "      <td>Master's Degree</td>\n",
       "      <td>57</td>\n",
       "      <td>69.195</td>\n",
       "      <td>6</td>\n",
       "      <td>1363</td>\n",
       "      <td>3.50</td>\n",
       "    </tr>\n",
       "    <tr>\n",
       "      <th>61984</th>\n",
       "      <td>Zapier</td>\n",
       "      <td>Software Engineering Manager</td>\n",
       "      <td>Denver, CO</td>\n",
       "      <td>1605000</td>\n",
       "      <td>250000</td>\n",
       "      <td>1305.0</td>\n",
       "      <td>50000.0</td>\n",
       "      <td>16.0</td>\n",
       "      <td>2.0</td>\n",
       "      <td>Female</td>\n",
       "      <td>...</td>\n",
       "      <td>0</td>\n",
       "      <td>0</td>\n",
       "      <td>0</td>\n",
       "      <td>White</td>\n",
       "      <td>Master's Degree</td>\n",
       "      <td>55</td>\n",
       "      <td>66.902</td>\n",
       "      <td>11</td>\n",
       "      <td>1447</td>\n",
       "      <td>3.77</td>\n",
       "    </tr>\n",
       "    <tr>\n",
       "      <th>61987</th>\n",
       "      <td>Facebook</td>\n",
       "      <td>Software Engineering Manager</td>\n",
       "      <td>Menlo Park, CA</td>\n",
       "      <td>2372000</td>\n",
       "      <td>315000</td>\n",
       "      <td>1933.0</td>\n",
       "      <td>124000.0</td>\n",
       "      <td>22.0</td>\n",
       "      <td>2.0</td>\n",
       "      <td>Male</td>\n",
       "      <td>...</td>\n",
       "      <td>0</td>\n",
       "      <td>1</td>\n",
       "      <td>0</td>\n",
       "      <td>Black</td>\n",
       "      <td>Master's Degree</td>\n",
       "      <td>50</td>\n",
       "      <td>62.691</td>\n",
       "      <td>8</td>\n",
       "      <td>1513</td>\n",
       "      <td>3.85</td>\n",
       "    </tr>\n",
       "    <tr>\n",
       "      <th>61991</th>\n",
       "      <td>Facebook</td>\n",
       "      <td>Product Manager</td>\n",
       "      <td>Menlo Park, CA</td>\n",
       "      <td>4980000</td>\n",
       "      <td>380000</td>\n",
       "      <td>4400.0</td>\n",
       "      <td>200000.0</td>\n",
       "      <td>17.0</td>\n",
       "      <td>0.0</td>\n",
       "      <td>Male</td>\n",
       "      <td>...</td>\n",
       "      <td>0</td>\n",
       "      <td>0</td>\n",
       "      <td>0</td>\n",
       "      <td>Asian</td>\n",
       "      <td>Master's Degree</td>\n",
       "      <td>49</td>\n",
       "      <td>65.138</td>\n",
       "      <td>2</td>\n",
       "      <td>1362</td>\n",
       "      <td>3.48</td>\n",
       "    </tr>\n",
       "  </tbody>\n",
       "</table>\n",
       "<p>21589 rows × 27 columns</p>\n",
       "</div>"
      ],
      "text/plain": [
       "         company                         title           location  \\\n",
       "15710     Google             Software Engineer      Sunnyvale, CA   \n",
       "23532  Microsoft             Software Engineer        Redmond, WA   \n",
       "23533     Google             Software Engineer      San Bruno, CA   \n",
       "23534  Microsoft             Software Engineer        Seattle, WA   \n",
       "23535      Blend             Software Engineer  San Francisco, CA   \n",
       "...          ...                           ...                ...   \n",
       "61981   Facebook  Software Engineering Manager     Menlo Park, CA   \n",
       "61982     Google               Product Manager  San Francisco, CA   \n",
       "61984     Zapier  Software Engineering Manager         Denver, CO   \n",
       "61987   Facebook  Software Engineering Manager     Menlo Park, CA   \n",
       "61991   Facebook               Product Manager     Menlo Park, CA   \n",
       "\n",
       "       totalyearlycompensation  basesalary  stockgrantvalue     bonus  \\\n",
       "15710                   400000      210000         145000.0   45000.0   \n",
       "23532                   136000      124000           1000.0   11000.0   \n",
       "23533                   337000      177000         125000.0   36000.0   \n",
       "23534                   222000      164000          38000.0   20000.0   \n",
       "23535                   187000      165000          22000.0       0.0   \n",
       "...                        ...         ...              ...       ...   \n",
       "61981                  1470000      290000           1100.0   80000.0   \n",
       "61982                  4500000      450000           3700.0  350000.0   \n",
       "61984                  1605000      250000           1305.0   50000.0   \n",
       "61987                  2372000      315000           1933.0  124000.0   \n",
       "61991                  4980000      380000           4400.0  200000.0   \n",
       "\n",
       "       yearsofexperience  yearsatcompany  gender  ...  Race_Two_Or_More  \\\n",
       "15710                5.0             5.0    Male  ...                 0   \n",
       "23532                3.0             2.0    Male  ...                 1   \n",
       "23533                6.0             6.0    Male  ...                 0   \n",
       "23534                4.0             4.0    Male  ...                 0   \n",
       "23535                5.0             0.0    Male  ...                 0   \n",
       "...                  ...             ...     ...  ...               ...   \n",
       "61981                9.0             7.0    Male  ...                 0   \n",
       "61982               20.0            14.0    Male  ...                 0   \n",
       "61984               16.0             2.0  Female  ...                 0   \n",
       "61987               22.0             2.0    Male  ...                 0   \n",
       "61991               17.0             0.0    Male  ...                 0   \n",
       "\n",
       "       Race_Black  Race_Hispanic         Race          Education  Age  Height  \\\n",
       "15710           0              0        Asian                PhD   45  68.891   \n",
       "23532           0              0  Two Or More  Bachelor's Degree   24  61.454   \n",
       "23533           0              0        Asian  Bachelor's Degree   25  65.455   \n",
       "23534           0              0        Asian    Master's Degree   32  73.769   \n",
       "23535           0              0        White  Bachelor's Degree   29  68.710   \n",
       "...           ...            ...          ...                ...  ...     ...   \n",
       "61981           0              0        Asian  Bachelor's Degree   31  68.402   \n",
       "61982           0              0        Asian    Master's Degree   57  69.195   \n",
       "61984           0              0        White    Master's Degree   55  66.902   \n",
       "61987           1              0        Black    Master's Degree   50  62.691   \n",
       "61991           0              0        Asian    Master's Degree   49  65.138   \n",
       "\n",
       "       Zodiac   SAT   GPA  \n",
       "15710       9  1166  3.04  \n",
       "23532      12  1175  3.07  \n",
       "23533       1  1268  3.34  \n",
       "23534       8  1070  2.75  \n",
       "23535       2  1187  3.23  \n",
       "...       ...   ...   ...  \n",
       "61981      12  1436  3.77  \n",
       "61982       6  1363  3.50  \n",
       "61984      11  1447  3.77  \n",
       "61987       8  1513  3.85  \n",
       "61991       2  1362  3.48  \n",
       "\n",
       "[21589 rows x 27 columns]"
      ]
     },
     "execution_count": 342,
     "metadata": {},
     "output_type": "execute_result"
    }
   ],
   "source": [
    "df = df.dropna()\n",
    "df"
   ]
  },
  {
   "cell_type": "code",
   "execution_count": 343,
   "id": "491fc9fc",
   "metadata": {},
   "outputs": [
    {
     "data": {
      "text/html": [
       "<div>\n",
       "<style scoped>\n",
       "    .dataframe tbody tr th:only-of-type {\n",
       "        vertical-align: middle;\n",
       "    }\n",
       "\n",
       "    .dataframe tbody tr th {\n",
       "        vertical-align: top;\n",
       "    }\n",
       "\n",
       "    .dataframe thead th {\n",
       "        text-align: right;\n",
       "    }\n",
       "</style>\n",
       "<table border=\"1\" class=\"dataframe\">\n",
       "  <thead>\n",
       "    <tr style=\"text-align: right;\">\n",
       "      <th></th>\n",
       "      <th>company</th>\n",
       "      <th>title</th>\n",
       "      <th>location</th>\n",
       "      <th>totalyearlycompensation</th>\n",
       "      <th>basesalary</th>\n",
       "      <th>stockgrantvalue</th>\n",
       "      <th>bonus</th>\n",
       "      <th>yearsofexperience</th>\n",
       "      <th>yearsatcompany</th>\n",
       "      <th>gender</th>\n",
       "      <th>...</th>\n",
       "      <th>Race_Two_Or_More</th>\n",
       "      <th>Race_Black</th>\n",
       "      <th>Race_Hispanic</th>\n",
       "      <th>Race</th>\n",
       "      <th>Education</th>\n",
       "      <th>Age</th>\n",
       "      <th>Height</th>\n",
       "      <th>Zodiac</th>\n",
       "      <th>SAT</th>\n",
       "      <th>GPA</th>\n",
       "    </tr>\n",
       "  </thead>\n",
       "  <tbody>\n",
       "    <tr>\n",
       "      <th>15710</th>\n",
       "      <td>Google</td>\n",
       "      <td>Software Engineer</td>\n",
       "      <td>Sunnyvale, CA</td>\n",
       "      <td>400000</td>\n",
       "      <td>210000</td>\n",
       "      <td>145000.0</td>\n",
       "      <td>45000.0</td>\n",
       "      <td>5.0</td>\n",
       "      <td>5.0</td>\n",
       "      <td>0</td>\n",
       "      <td>...</td>\n",
       "      <td>0</td>\n",
       "      <td>0</td>\n",
       "      <td>0</td>\n",
       "      <td>Asian</td>\n",
       "      <td>PhD</td>\n",
       "      <td>45</td>\n",
       "      <td>68.891</td>\n",
       "      <td>9</td>\n",
       "      <td>1166</td>\n",
       "      <td>3.04</td>\n",
       "    </tr>\n",
       "    <tr>\n",
       "      <th>23532</th>\n",
       "      <td>Microsoft</td>\n",
       "      <td>Software Engineer</td>\n",
       "      <td>Redmond, WA</td>\n",
       "      <td>136000</td>\n",
       "      <td>124000</td>\n",
       "      <td>1000.0</td>\n",
       "      <td>11000.0</td>\n",
       "      <td>3.0</td>\n",
       "      <td>2.0</td>\n",
       "      <td>0</td>\n",
       "      <td>...</td>\n",
       "      <td>1</td>\n",
       "      <td>0</td>\n",
       "      <td>0</td>\n",
       "      <td>Two Or More</td>\n",
       "      <td>Bachelor's Degree</td>\n",
       "      <td>24</td>\n",
       "      <td>61.454</td>\n",
       "      <td>12</td>\n",
       "      <td>1175</td>\n",
       "      <td>3.07</td>\n",
       "    </tr>\n",
       "    <tr>\n",
       "      <th>23533</th>\n",
       "      <td>Google</td>\n",
       "      <td>Software Engineer</td>\n",
       "      <td>San Bruno, CA</td>\n",
       "      <td>337000</td>\n",
       "      <td>177000</td>\n",
       "      <td>125000.0</td>\n",
       "      <td>36000.0</td>\n",
       "      <td>6.0</td>\n",
       "      <td>6.0</td>\n",
       "      <td>0</td>\n",
       "      <td>...</td>\n",
       "      <td>0</td>\n",
       "      <td>0</td>\n",
       "      <td>0</td>\n",
       "      <td>Asian</td>\n",
       "      <td>Bachelor's Degree</td>\n",
       "      <td>25</td>\n",
       "      <td>65.455</td>\n",
       "      <td>1</td>\n",
       "      <td>1268</td>\n",
       "      <td>3.34</td>\n",
       "    </tr>\n",
       "    <tr>\n",
       "      <th>23534</th>\n",
       "      <td>Microsoft</td>\n",
       "      <td>Software Engineer</td>\n",
       "      <td>Seattle, WA</td>\n",
       "      <td>222000</td>\n",
       "      <td>164000</td>\n",
       "      <td>38000.0</td>\n",
       "      <td>20000.0</td>\n",
       "      <td>4.0</td>\n",
       "      <td>4.0</td>\n",
       "      <td>0</td>\n",
       "      <td>...</td>\n",
       "      <td>0</td>\n",
       "      <td>0</td>\n",
       "      <td>0</td>\n",
       "      <td>Asian</td>\n",
       "      <td>Master's Degree</td>\n",
       "      <td>32</td>\n",
       "      <td>73.769</td>\n",
       "      <td>8</td>\n",
       "      <td>1070</td>\n",
       "      <td>2.75</td>\n",
       "    </tr>\n",
       "    <tr>\n",
       "      <th>23535</th>\n",
       "      <td>Blend</td>\n",
       "      <td>Software Engineer</td>\n",
       "      <td>San Francisco, CA</td>\n",
       "      <td>187000</td>\n",
       "      <td>165000</td>\n",
       "      <td>22000.0</td>\n",
       "      <td>0.0</td>\n",
       "      <td>5.0</td>\n",
       "      <td>0.0</td>\n",
       "      <td>0</td>\n",
       "      <td>...</td>\n",
       "      <td>0</td>\n",
       "      <td>0</td>\n",
       "      <td>0</td>\n",
       "      <td>White</td>\n",
       "      <td>Bachelor's Degree</td>\n",
       "      <td>29</td>\n",
       "      <td>68.710</td>\n",
       "      <td>2</td>\n",
       "      <td>1187</td>\n",
       "      <td>3.23</td>\n",
       "    </tr>\n",
       "    <tr>\n",
       "      <th>...</th>\n",
       "      <td>...</td>\n",
       "      <td>...</td>\n",
       "      <td>...</td>\n",
       "      <td>...</td>\n",
       "      <td>...</td>\n",
       "      <td>...</td>\n",
       "      <td>...</td>\n",
       "      <td>...</td>\n",
       "      <td>...</td>\n",
       "      <td>...</td>\n",
       "      <td>...</td>\n",
       "      <td>...</td>\n",
       "      <td>...</td>\n",
       "      <td>...</td>\n",
       "      <td>...</td>\n",
       "      <td>...</td>\n",
       "      <td>...</td>\n",
       "      <td>...</td>\n",
       "      <td>...</td>\n",
       "      <td>...</td>\n",
       "      <td>...</td>\n",
       "    </tr>\n",
       "    <tr>\n",
       "      <th>61981</th>\n",
       "      <td>Facebook</td>\n",
       "      <td>Software Engineering Manager</td>\n",
       "      <td>Menlo Park, CA</td>\n",
       "      <td>1470000</td>\n",
       "      <td>290000</td>\n",
       "      <td>1100.0</td>\n",
       "      <td>80000.0</td>\n",
       "      <td>9.0</td>\n",
       "      <td>7.0</td>\n",
       "      <td>0</td>\n",
       "      <td>...</td>\n",
       "      <td>0</td>\n",
       "      <td>0</td>\n",
       "      <td>0</td>\n",
       "      <td>Asian</td>\n",
       "      <td>Bachelor's Degree</td>\n",
       "      <td>31</td>\n",
       "      <td>68.402</td>\n",
       "      <td>12</td>\n",
       "      <td>1436</td>\n",
       "      <td>3.77</td>\n",
       "    </tr>\n",
       "    <tr>\n",
       "      <th>61982</th>\n",
       "      <td>Google</td>\n",
       "      <td>Product Manager</td>\n",
       "      <td>San Francisco, CA</td>\n",
       "      <td>4500000</td>\n",
       "      <td>450000</td>\n",
       "      <td>3700.0</td>\n",
       "      <td>350000.0</td>\n",
       "      <td>20.0</td>\n",
       "      <td>14.0</td>\n",
       "      <td>0</td>\n",
       "      <td>...</td>\n",
       "      <td>0</td>\n",
       "      <td>0</td>\n",
       "      <td>0</td>\n",
       "      <td>Asian</td>\n",
       "      <td>Master's Degree</td>\n",
       "      <td>57</td>\n",
       "      <td>69.195</td>\n",
       "      <td>6</td>\n",
       "      <td>1363</td>\n",
       "      <td>3.50</td>\n",
       "    </tr>\n",
       "    <tr>\n",
       "      <th>61984</th>\n",
       "      <td>Zapier</td>\n",
       "      <td>Software Engineering Manager</td>\n",
       "      <td>Denver, CO</td>\n",
       "      <td>1605000</td>\n",
       "      <td>250000</td>\n",
       "      <td>1305.0</td>\n",
       "      <td>50000.0</td>\n",
       "      <td>16.0</td>\n",
       "      <td>2.0</td>\n",
       "      <td>1</td>\n",
       "      <td>...</td>\n",
       "      <td>0</td>\n",
       "      <td>0</td>\n",
       "      <td>0</td>\n",
       "      <td>White</td>\n",
       "      <td>Master's Degree</td>\n",
       "      <td>55</td>\n",
       "      <td>66.902</td>\n",
       "      <td>11</td>\n",
       "      <td>1447</td>\n",
       "      <td>3.77</td>\n",
       "    </tr>\n",
       "    <tr>\n",
       "      <th>61987</th>\n",
       "      <td>Facebook</td>\n",
       "      <td>Software Engineering Manager</td>\n",
       "      <td>Menlo Park, CA</td>\n",
       "      <td>2372000</td>\n",
       "      <td>315000</td>\n",
       "      <td>1933.0</td>\n",
       "      <td>124000.0</td>\n",
       "      <td>22.0</td>\n",
       "      <td>2.0</td>\n",
       "      <td>0</td>\n",
       "      <td>...</td>\n",
       "      <td>0</td>\n",
       "      <td>1</td>\n",
       "      <td>0</td>\n",
       "      <td>Black</td>\n",
       "      <td>Master's Degree</td>\n",
       "      <td>50</td>\n",
       "      <td>62.691</td>\n",
       "      <td>8</td>\n",
       "      <td>1513</td>\n",
       "      <td>3.85</td>\n",
       "    </tr>\n",
       "    <tr>\n",
       "      <th>61991</th>\n",
       "      <td>Facebook</td>\n",
       "      <td>Product Manager</td>\n",
       "      <td>Menlo Park, CA</td>\n",
       "      <td>4980000</td>\n",
       "      <td>380000</td>\n",
       "      <td>4400.0</td>\n",
       "      <td>200000.0</td>\n",
       "      <td>17.0</td>\n",
       "      <td>0.0</td>\n",
       "      <td>0</td>\n",
       "      <td>...</td>\n",
       "      <td>0</td>\n",
       "      <td>0</td>\n",
       "      <td>0</td>\n",
       "      <td>Asian</td>\n",
       "      <td>Master's Degree</td>\n",
       "      <td>49</td>\n",
       "      <td>65.138</td>\n",
       "      <td>2</td>\n",
       "      <td>1362</td>\n",
       "      <td>3.48</td>\n",
       "    </tr>\n",
       "  </tbody>\n",
       "</table>\n",
       "<p>21589 rows × 27 columns</p>\n",
       "</div>"
      ],
      "text/plain": [
       "         company                         title           location  \\\n",
       "15710     Google             Software Engineer      Sunnyvale, CA   \n",
       "23532  Microsoft             Software Engineer        Redmond, WA   \n",
       "23533     Google             Software Engineer      San Bruno, CA   \n",
       "23534  Microsoft             Software Engineer        Seattle, WA   \n",
       "23535      Blend             Software Engineer  San Francisco, CA   \n",
       "...          ...                           ...                ...   \n",
       "61981   Facebook  Software Engineering Manager     Menlo Park, CA   \n",
       "61982     Google               Product Manager  San Francisco, CA   \n",
       "61984     Zapier  Software Engineering Manager         Denver, CO   \n",
       "61987   Facebook  Software Engineering Manager     Menlo Park, CA   \n",
       "61991   Facebook               Product Manager     Menlo Park, CA   \n",
       "\n",
       "       totalyearlycompensation  basesalary  stockgrantvalue     bonus  \\\n",
       "15710                   400000      210000         145000.0   45000.0   \n",
       "23532                   136000      124000           1000.0   11000.0   \n",
       "23533                   337000      177000         125000.0   36000.0   \n",
       "23534                   222000      164000          38000.0   20000.0   \n",
       "23535                   187000      165000          22000.0       0.0   \n",
       "...                        ...         ...              ...       ...   \n",
       "61981                  1470000      290000           1100.0   80000.0   \n",
       "61982                  4500000      450000           3700.0  350000.0   \n",
       "61984                  1605000      250000           1305.0   50000.0   \n",
       "61987                  2372000      315000           1933.0  124000.0   \n",
       "61991                  4980000      380000           4400.0  200000.0   \n",
       "\n",
       "       yearsofexperience  yearsatcompany  gender  ...  Race_Two_Or_More  \\\n",
       "15710                5.0             5.0       0  ...                 0   \n",
       "23532                3.0             2.0       0  ...                 1   \n",
       "23533                6.0             6.0       0  ...                 0   \n",
       "23534                4.0             4.0       0  ...                 0   \n",
       "23535                5.0             0.0       0  ...                 0   \n",
       "...                  ...             ...     ...  ...               ...   \n",
       "61981                9.0             7.0       0  ...                 0   \n",
       "61982               20.0            14.0       0  ...                 0   \n",
       "61984               16.0             2.0       1  ...                 0   \n",
       "61987               22.0             2.0       0  ...                 0   \n",
       "61991               17.0             0.0       0  ...                 0   \n",
       "\n",
       "       Race_Black  Race_Hispanic         Race          Education  Age  Height  \\\n",
       "15710           0              0        Asian                PhD   45  68.891   \n",
       "23532           0              0  Two Or More  Bachelor's Degree   24  61.454   \n",
       "23533           0              0        Asian  Bachelor's Degree   25  65.455   \n",
       "23534           0              0        Asian    Master's Degree   32  73.769   \n",
       "23535           0              0        White  Bachelor's Degree   29  68.710   \n",
       "...           ...            ...          ...                ...  ...     ...   \n",
       "61981           0              0        Asian  Bachelor's Degree   31  68.402   \n",
       "61982           0              0        Asian    Master's Degree   57  69.195   \n",
       "61984           0              0        White    Master's Degree   55  66.902   \n",
       "61987           1              0        Black    Master's Degree   50  62.691   \n",
       "61991           0              0        Asian    Master's Degree   49  65.138   \n",
       "\n",
       "       Zodiac   SAT   GPA  \n",
       "15710       9  1166  3.04  \n",
       "23532      12  1175  3.07  \n",
       "23533       1  1268  3.34  \n",
       "23534       8  1070  2.75  \n",
       "23535       2  1187  3.23  \n",
       "...       ...   ...   ...  \n",
       "61981      12  1436  3.77  \n",
       "61982       6  1363  3.50  \n",
       "61984      11  1447  3.77  \n",
       "61987       8  1513  3.85  \n",
       "61991       2  1362  3.48  \n",
       "\n",
       "[21589 rows x 27 columns]"
      ]
     },
     "execution_count": 343,
     "metadata": {},
     "output_type": "execute_result"
    }
   ],
   "source": [
    "df[\"gender\"] = np.where(df[\"gender\"] == \"Male\", 0, 1)\n",
    "df"
   ]
  },
  {
   "cell_type": "code",
   "execution_count": 344,
   "id": "83b0f61c",
   "metadata": {},
   "outputs": [
    {
     "data": {
      "text/plain": [
       "['company',\n",
       " 'title',\n",
       " 'location',\n",
       " 'totalyearlycompensation',\n",
       " 'basesalary',\n",
       " 'stockgrantvalue',\n",
       " 'bonus',\n",
       " 'yearsofexperience',\n",
       " 'yearsatcompany',\n",
       " 'gender',\n",
       " 'Masters_Degree',\n",
       " 'Bachelors_Degree',\n",
       " 'Doctorate_Degree',\n",
       " 'Highschool',\n",
       " 'Some_College',\n",
       " 'Race_Asian',\n",
       " 'Race_White',\n",
       " 'Race_Two_Or_More',\n",
       " 'Race_Black',\n",
       " 'Race_Hispanic',\n",
       " 'Race',\n",
       " 'Education',\n",
       " 'Age',\n",
       " 'Height',\n",
       " 'Zodiac',\n",
       " 'SAT',\n",
       " 'GPA']"
      ]
     },
     "execution_count": 344,
     "metadata": {},
     "output_type": "execute_result"
    }
   ],
   "source": [
    "list(df.columns.values)"
   ]
  },
  {
   "cell_type": "code",
   "execution_count": 345,
   "id": "4c980997",
   "metadata": {},
   "outputs": [],
   "source": [
    "X_df_1 = df[[\"yearsofexperience\", \"yearsatcompany\", \"gender\", \"Masters_Degree\", \"Bachelors_Degree\", \"Doctorate_Degree\", \"Highschool\", \"Race_Asian\", \"Race_White\", \"Race_Black\", \"Race_Hispanic\", \"Age\", \"Height\", \"Zodiac\", \"SAT\", \"GPA\"]]\n",
    "y_df = df[[\"totalyearlycompensation\"]]"
   ]
  },
  {
   "cell_type": "code",
   "execution_count": 346,
   "id": "d35bd833",
   "metadata": {},
   "outputs": [
    {
     "name": "stdout",
     "output_type": "stream",
     "text": [
      "0.2662964288810088\n"
     ]
    },
    {
     "data": {
      "text/plain": [
       "Text(0.5, 1.0, 'R^2 = 0.266')"
      ]
     },
     "execution_count": 346,
     "metadata": {},
     "output_type": "execute_result"
    },
    {
     "data": {
      "image/png": "[encoded data removed]",
      "text/plain": [
       "<Figure size 432x288 with 1 Axes>"
      ]
     },
     "metadata": {
      "needs_background": "light"
     },
     "output_type": "display_data"
    }
   ],
   "source": [
    "X_full = X_df_1.to_numpy()\n",
    "y = y_df.to_numpy()\n",
    "model = LinearRegression().fit(X_full, y)\n",
    "rSqr = model.score(X_full, y)\n",
    "print(rSqr)\n",
    "\n",
    "yHat = model.predict(X_full)\n",
    "plt.plot(yHat,y_full,'o',markersize=.75) \n",
    "plt.xlabel('Prediction from Model') \n",
    "plt.ylabel('Total Yearly Compensation')  \n",
    "plt.title('R^2 = {:.3f}'.format(rSqr))"
   ]
  },
  {
   "cell_type": "code",
   "execution_count": 347,
   "id": "00613331",
   "metadata": {},
   "outputs": [
    {
     "name": "stdout",
     "output_type": "stream",
     "text": [
      "0.162133461342705\n"
     ]
    }
   ],
   "source": [
    "model = LinearRegression().fit(X_df_1[[\"yearsofexperience\"]], y)\n",
    "rSqr = model.score(X_df_1[[\"yearsofexperience\"]], y)\n",
    "print(rSqr)"
   ]
  },
  {
   "cell_type": "code",
   "execution_count": 348,
   "id": "0a633be7",
   "metadata": {},
   "outputs": [
    {
     "name": "stdout",
     "output_type": "stream",
     "text": [
      "0.028185004588511142\n"
     ]
    }
   ],
   "source": [
    "model = LinearRegression().fit(X_df_1[[\"yearsatcompany\"]], y)\n",
    "rSqr = model.score(X_df_1[[\"yearsatcompany\"]], y)\n",
    "print(rSqr)"
   ]
  },
  {
   "cell_type": "code",
   "execution_count": 349,
   "id": "59f97f10",
   "metadata": {},
   "outputs": [
    {
     "name": "stdout",
     "output_type": "stream",
     "text": [
      "0.0013134572585739024\n"
     ]
    }
   ],
   "source": [
    "model = LinearRegression().fit(X_df_1[[\"gender\"]], y)\n",
    "rSqr = model.score(X_df_1[[\"gender\"]], y)\n",
    "print(rSqr)"
   ]
  },
  {
   "cell_type": "code",
   "execution_count": 350,
   "id": "fc77ccdb",
   "metadata": {},
   "outputs": [
    {
     "name": "stdout",
     "output_type": "stream",
     "text": [
      "0.03668704986239801\n"
     ]
    }
   ],
   "source": [
    "model = LinearRegression().fit(X_df_1[[\"Masters_Degree\", \"Bachelors_Degree\", \"Doctorate_Degree\", \"Highschool\"]], y)\n",
    "rSqr = model.score(X_df_1[[\"Masters_Degree\", \"Bachelors_Degree\", \"Doctorate_Degree\", \"Highschool\"]], y)\n",
    "print(rSqr)"
   ]
  },
  {
   "cell_type": "code",
   "execution_count": 351,
   "id": "cf491847",
   "metadata": {},
   "outputs": [
    {
     "name": "stdout",
     "output_type": "stream",
     "text": [
      "0.0027771695169861443\n"
     ]
    }
   ],
   "source": [
    "model = LinearRegression().fit(X_df_1[[\"Race_Asian\", \"Race_White\", \"Race_Black\", \"Race_Hispanic\"]], y)\n",
    "rSqr = model.score(X_df_1[[\"Race_Asian\", \"Race_White\", \"Race_Black\", \"Race_Hispanic\"]], y)\n",
    "print(rSqr)"
   ]
  },
  {
   "cell_type": "code",
   "execution_count": 352,
   "id": "f3028197",
   "metadata": {},
   "outputs": [
    {
     "name": "stdout",
     "output_type": "stream",
     "text": [
      "0.06474417322866977\n"
     ]
    }
   ],
   "source": [
    "model = LinearRegression().fit(X_df_1[[\"Age\"]], y)\n",
    "rSqr = model.score(X_df_1[[\"Age\"]], y)\n",
    "print(rSqr)"
   ]
  },
  {
   "cell_type": "code",
   "execution_count": 353,
   "id": "030520c1",
   "metadata": {},
   "outputs": [
    {
     "name": "stdout",
     "output_type": "stream",
     "text": [
      "0.00013707828289288848\n"
     ]
    }
   ],
   "source": [
    "model = LinearRegression().fit(X_df_1[[\"Height\"]], y)\n",
    "rSqr = model.score(X_df_1[[\"Height\"]], y)\n",
    "print(rSqr)"
   ]
  },
  {
   "cell_type": "code",
   "execution_count": 354,
   "id": "079c0913",
   "metadata": {},
   "outputs": [
    {
     "name": "stdout",
     "output_type": "stream",
     "text": [
      "7.639055778330128e-05\n"
     ]
    }
   ],
   "source": [
    "model = LinearRegression().fit(X_df_1[[\"Zodiac\"]], y)\n",
    "rSqr = model.score(X_df_1[[\"Zodiac\"]], y)\n",
    "print(rSqr)"
   ]
  },
  {
   "cell_type": "code",
   "execution_count": 355,
   "id": "088f508d",
   "metadata": {},
   "outputs": [
    {
     "name": "stdout",
     "output_type": "stream",
     "text": [
      "0.11071695461350883\n"
     ]
    }
   ],
   "source": [
    "model = LinearRegression().fit(X_df_1[[\"SAT\"]], y)\n",
    "rSqr = model.score(X_df_1[[\"SAT\"]], y)\n",
    "print(rSqr)"
   ]
  },
  {
   "cell_type": "code",
   "execution_count": 356,
   "id": "f58940ed",
   "metadata": {},
   "outputs": [
    {
     "name": "stdout",
     "output_type": "stream",
     "text": [
      "0.0932610964556061\n"
     ]
    }
   ],
   "source": [
    "model = LinearRegression().fit(X_df_1[[\"GPA\"]], y)\n",
    "rSqr = model.score(X_df_1[[\"GPA\"]], y)\n",
    "print(rSqr)"
   ]
  },
  {
   "cell_type": "code",
   "execution_count": 357,
   "id": "26116a05",
   "metadata": {},
   "outputs": [
    {
     "name": "stdout",
     "output_type": "stream",
     "text": [
      "0.162133461342705\n"
     ]
    },
    {
     "data": {
      "text/plain": [
       "Text(0.5, 1.0, 'R^2 = 0.162')"
      ]
     },
     "execution_count": 357,
     "metadata": {},
     "output_type": "execute_result"
    },
    {
     "data": {
      "image/png": "[encoded data removed]",
      "text/plain": [
       "<Figure size 432x288 with 1 Axes>"
      ]
     },
     "metadata": {
      "needs_background": "light"
     },
     "output_type": "display_data"
    }
   ],
   "source": [
    "X_best = X_df_1[[\"yearsofexperience\"]].to_numpy()\n",
    "model = LinearRegression().fit(X_best, y)\n",
    "rSqr = model.score(X_best, y)\n",
    "print(rSqr)\n",
    "\n",
    "yHat = model.predict(X_best)\n",
    "plt.plot(yHat,y,'o',markersize=.75) \n",
    "plt.xlabel('Prediction from Model') \n",
    "plt.ylabel('Total Yearly Compensation')  \n",
    "plt.title('R^2 = {:.3f}'.format(rSqr))"
   ]
  },
  {
   "cell_type": "markdown",
   "id": "2f2bd581",
   "metadata": {},
   "source": [
    "# Question 2"
   ]
  },
  {
   "cell_type": "code",
   "execution_count": 358,
   "id": "ac6dfd9f",
   "metadata": {},
   "outputs": [
    {
     "data": {
      "image/png": "[encoded data removed]",
      "text/plain": [
       "<Figure size 432x288 with 1 Axes>"
      ]
     },
     "metadata": {
      "needs_background": "light"
     },
     "output_type": "display_data"
    },
    {
     "name": "stdout",
     "output_type": "stream",
     "text": [
      "Optimal lambda: 10.0\n"
     ]
    }
   ],
   "source": [
    "lambdas = np.linspace(0,500,1001)\n",
    "cont = np.empty([len(lambdas),2])*np.NaN\n",
    "\n",
    "X_df_quant = df[[\"yearsofexperience\", \"yearsatcompany\", \"Age\", \"Height\", \"SAT\", \"GPA\"]]\n",
    "X_df_cat = df[[\"gender\", \"Masters_Degree\", \"Bachelors_Degree\", \"Doctorate_Degree\", \"Highschool\", \"Race_Asian\", \"Race_White\", \"Race_Black\", \"Race_Hispanic\", \"Zodiac\"]]\n",
    "\n",
    "X_norm_quant = (X_df_quant - np.mean(X_df_quant, axis=0))/np.std(X_df_quant, axis=0)\n",
    "X_norm_df = pd.concat([X_norm_quant, X_df_cat], axis=1)\n",
    "y_norm_df = (y_df - np.mean(y_df, axis=0))/np.std(y_df, axis=0)\n",
    "\n",
    "X_train, X_test, y_train, y_test = model_selection.train_test_split(X_norm_df, y_norm_df, test_size=0.2, random_state=0)\n",
    "\n",
    "for ii in range(len(lambdas)):\n",
    "    ridgeModel = Ridge(alpha=lambdas[ii]).fit(X_train, y_train)\n",
    "    cont[ii,0] = lambdas[ii]\n",
    "    error = metrics.mean_squared_error(y_test, ridgeModel.predict(X_test))\n",
    "    cont[ii,1] = error\n",
    "\n",
    "plt.plot(cont[:,0],cont[:,1])\n",
    "plt.xlabel('Lambda')\n",
    "plt.ylabel('RMSE')\n",
    "plt.title('Ridge regression')\n",
    "plt.show()\n",
    "print('Optimal lambda:',lambdas[np.argmax(cont[:,1] == np.min(cont[:,1]))])"
   ]
  },
  {
   "cell_type": "code",
   "execution_count": 359,
   "id": "94f70728",
   "metadata": {},
   "outputs": [
    {
     "name": "stdout",
     "output_type": "stream",
     "text": [
      "R-Squared Value:  0.30389471835112924\n"
     ]
    }
   ],
   "source": [
    "ridge_all = Ridge(alpha=10).fit(X_norm_df, y_norm_df)\n",
    "p = ridge_all.predict(X_test)\n",
    "print(\"R-Squared Value: \", metrics.r2_score(y_test, p))"
   ]
  },
  {
   "cell_type": "code",
   "execution_count": 360,
   "id": "4b4fd38c",
   "metadata": {},
   "outputs": [
    {
     "data": {
      "image/png": "[encoded data removed]",
      "text/plain": [
       "<Figure size 432x288 with 1 Axes>"
      ]
     },
     "metadata": {
      "needs_background": "light"
     },
     "output_type": "display_data"
    },
    {
     "name": "stdout",
     "output_type": "stream",
     "text": [
      "Optimal lambda: 0.0\n"
     ]
    }
   ],
   "source": [
    "lambdas = np.linspace(0,500,1001)\n",
    "cont = np.empty([len(lambdas),2])*np.NaN\n",
    "\n",
    "X_norm_best_df = (df[[\"yearsofexperience\"]] - np.mean(df[[\"yearsofexperience\"]], axis=0))/np.std(df[[\"yearsofexperience\"]], axis=0)\n",
    "X_train, X_test, y_train, y_test = model_selection.train_test_split(X_norm_best_df, y_norm_df, test_size=0.2, random_state=0)\n",
    "\n",
    "for ii in range(len(lambdas)):\n",
    "    ridgeModel = Ridge(alpha=lambdas[ii]).fit(X_train, y_train)\n",
    "    cont[ii,0] = lambdas[ii]\n",
    "    error = metrics.mean_squared_error(y_test, ridgeModel.predict(X_test))\n",
    "    cont[ii,1] = error\n",
    "\n",
    "plt.plot(cont[:,0],cont[:,1])\n",
    "plt.xlabel('Lambda')\n",
    "plt.ylabel('RMSE')\n",
    "plt.title('Ridge regression')\n",
    "plt.show()\n",
    "print('Optimal lambda:',lambdas[np.argmax(cont[:,1] == np.min(cont[:,1]))])"
   ]
  },
  {
   "cell_type": "code",
   "execution_count": 361,
   "id": "d76fbbbe",
   "metadata": {},
   "outputs": [
    {
     "name": "stdout",
     "output_type": "stream",
     "text": [
      "R-Squared Value:  0.18769984501417192\n"
     ]
    }
   ],
   "source": [
    "ridge_best = Ridge(alpha=0).fit(X_norm_best_df, y_norm_df)\n",
    "p = ridge_best.predict(X_test)\n",
    "print(\"R-Squared Value: \", metrics.r2_score(y_test, p))"
   ]
  },
  {
   "cell_type": "markdown",
   "id": "67d08a30",
   "metadata": {},
   "source": [
    "# Question 3"
   ]
  },
  {
   "cell_type": "code",
   "execution_count": 362,
   "id": "d22fd85f",
   "metadata": {},
   "outputs": [
    {
     "data": {
      "image/png": "[encoded data removed]",
      "text/plain": [
       "<Figure size 432x288 with 1 Axes>"
      ]
     },
     "metadata": {
      "needs_background": "light"
     },
     "output_type": "display_data"
    },
    {
     "name": "stdout",
     "output_type": "stream",
     "text": [
      "Optimal lambda: 0.0\n"
     ]
    }
   ],
   "source": [
    "lambdas = np.linspace(0,500,1001)\n",
    "cont = np.empty([len(lambdas),2])*np.NaN\n",
    "\n",
    "X_train, X_test, y_train, y_test = model_selection.train_test_split(X_norm_df, y_norm_df, test_size=0.2, random_state=0)\n",
    "\n",
    "for ii in range(len(lambdas)):\n",
    "    lassoModel = Lasso(alpha=lambdas[ii]).fit(X_train, y_train)\n",
    "    cont[ii,0] = lambdas[ii]\n",
    "    error = metrics.mean_squared_error(y_test, lassoModel.predict(X_test))\n",
    "    cont[ii,1] = error\n",
    "\n",
    "plt.plot(cont[:,0],cont[:,1])\n",
    "plt.xlabel('Lambda')\n",
    "plt.ylabel('RMSE')\n",
    "plt.title('Lasso regression')\n",
    "plt.show()\n",
    "print('Optimal lambda:',lambdas[np.argmax(cont[:,1]==np.min(cont[:,1]))])"
   ]
  },
  {
   "cell_type": "code",
   "execution_count": 363,
   "id": "98c2fcc6",
   "metadata": {},
   "outputs": [
    {
     "name": "stdout",
     "output_type": "stream",
     "text": [
      "R-Squared Value:  0.30388907394264786\n",
      "Number of coefficients that have been shrunk to 0: 0\n"
     ]
    }
   ],
   "source": [
    "lasso_all = Lasso(alpha=0).fit(X_norm_df, y_norm_df)\n",
    "p = lasso_all.predict(X_test)\n",
    "print(\"R-Squared Value: \", metrics.r2_score(y_test, p))\n",
    "coef = lasso_all.coef_\n",
    "num_zero_coefs = sum(abs(coef) < 1e-6)\n",
    "print(\"Number of coefficients that have been shrunk to 0:\", num_zero_coefs)"
   ]
  },
  {
   "cell_type": "code",
   "execution_count": 364,
   "id": "48c9adcc",
   "metadata": {},
   "outputs": [
    {
     "data": {
      "image/png": "[encoded data removed]",
      "text/plain": [
       "<Figure size 432x288 with 1 Axes>"
      ]
     },
     "metadata": {
      "needs_background": "light"
     },
     "output_type": "display_data"
    },
    {
     "name": "stdout",
     "output_type": "stream",
     "text": [
      "Optimal lambda: 0.0\n"
     ]
    }
   ],
   "source": [
    "lambdas = np.linspace(0,500,1001)\n",
    "cont = np.empty([len(lambdas),2])*np.NaN\n",
    "\n",
    "X_norm_best_df = (df[[\"yearsofexperience\"]] - np.mean(df[[\"yearsofexperience\"]], axis=0))/np.std(df[[\"yearsofexperience\"]], axis=0)\n",
    "X_train, X_test, y_train, y_test = model_selection.train_test_split(X_norm_best_df, y_norm_df, test_size=0.2, random_state=0)\n",
    "\n",
    "for ii in range(len(lambdas)):\n",
    "    lassoModel = Lasso(alpha=lambdas[ii]).fit(X_train, y_train)\n",
    "    cont[ii,0] = lambdas[ii]\n",
    "    error = metrics.mean_squared_error(y_test, lassoModel.predict(X_test))\n",
    "    cont[ii,1] = error\n",
    "\n",
    "plt.plot(cont[:,0],cont[:,1])\n",
    "plt.xlabel('Lambda')\n",
    "plt.ylabel('RMSE')\n",
    "plt.title('Lasso regression')\n",
    "plt.show()\n",
    "print('Optimal lambda:',lambdas[np.argmax(cont[:,1]==np.min(cont[:,1]))])"
   ]
  },
  {
   "cell_type": "code",
   "execution_count": 365,
   "id": "69f51fc4",
   "metadata": {},
   "outputs": [
    {
     "name": "stdout",
     "output_type": "stream",
     "text": [
      "R-Squared Value:  0.18769984501417192\n",
      "Number of coefficients that have been shrunk to 0: 0\n"
     ]
    }
   ],
   "source": [
    "lasso_best = Lasso(alpha=0).fit(X_norm_best_df, y_norm_df)\n",
    "p = lasso_best.predict(X_test)\n",
    "print(\"R-Squared Value: \", metrics.r2_score(y_test, p))\n",
    "coef = lasso_best.coef_\n",
    "num_zero_coefs = sum(abs(coef) < 1e-6)\n",
    "print(\"Number of coefficients that have been shrunk to 0:\", num_zero_coefs)"
   ]
  },
  {
   "cell_type": "markdown",
   "id": "845b53a4",
   "metadata": {},
   "source": [
    "# Question 4"
   ]
  },
  {
   "cell_type": "code",
   "execution_count": 366,
   "id": "2b5b655f",
   "metadata": {},
   "outputs": [
    {
     "name": "stdout",
     "output_type": "stream",
     "text": [
      "Accuracy of logistic regression classifier on test set: 0.82\n"
     ]
    }
   ],
   "source": [
    "X_train, X_test, y_train, y_test = model_selection.train_test_split(y_df, df[\"gender\"], test_size=0.3, random_state=0)\n",
    "model = LogisticRegression().fit(X_train, y_train)\n",
    "\n",
    "y_pred = model.predict(X_test)\n",
    "print('Accuracy of logistic regression classifier on test set: {:.2f}'.format(model.score(X_test, y_test)))"
   ]
  },
  {
   "cell_type": "code",
   "execution_count": 367,
   "id": "35cf5a07",
   "metadata": {},
   "outputs": [
    {
     "name": "stdout",
     "output_type": "stream",
     "text": [
      "              precision    recall  f1-score   support\n",
      "\n",
      "           0       0.82      1.00      0.90      5292\n",
      "           1       0.00      0.00      0.00      1185\n",
      "\n",
      "    accuracy                           0.82      6477\n",
      "   macro avg       0.41      0.50      0.45      6477\n",
      "weighted avg       0.67      0.82      0.73      6477\n",
      "\n"
     ]
    },
    {
     "data": {
      "image/png": "[encoded data removed]",
      "text/plain": [
       "<Figure size 432x288 with 1 Axes>"
      ]
     },
     "metadata": {
      "needs_background": "light"
     },
     "output_type": "display_data"
    }
   ],
   "source": [
    "print(metrics.classification_report(y_test, y_pred))\n",
    "model_roc_auc = metrics.roc_auc_score(y_test, model.predict(X_test))\n",
    "fpr, tpr, thresholds = metrics.roc_curve(y_test, model.predict_proba(X_test)[:,1])\n",
    "plt.figure()\n",
    "plt.plot(fpr, tpr, label='Logistic Regression (area = %0.2f)' % model_roc_auc)\n",
    "plt.plot([0, 1], [0, 1],'r--')\n",
    "plt.xlim([0.0, 1.0])\n",
    "plt.ylim([0.0, 1.05])\n",
    "plt.xlabel('False Positive Rate')\n",
    "plt.ylabel('True Positive Rate')\n",
    "plt.title('Receiver operating characteristic')\n",
    "plt.legend(loc=\"lower right\")\n",
    "plt.savefig('Log_ROC')\n",
    "plt.show()"
   ]
  },
  {
   "cell_type": "code",
   "execution_count": 368,
   "id": "75bcc12d",
   "metadata": {},
   "outputs": [
    {
     "data": {
      "text/plain": [
       "array([[-6.77043834e-06]])"
      ]
     },
     "execution_count": 368,
     "metadata": {},
     "output_type": "execute_result"
    }
   ],
   "source": [
    "model.coef_"
   ]
  },
  {
   "cell_type": "code",
   "execution_count": 369,
   "id": "918a5e22",
   "metadata": {},
   "outputs": [
    {
     "name": "stdout",
     "output_type": "stream",
     "text": [
      "Accuracy of logistic regression classifier on test set: 0.82\n"
     ]
    }
   ],
   "source": [
    "X_df_2 = df[[\"totalyearlycompensation\", \"yearsofexperience\", \"yearsatcompany\", \"Masters_Degree\", \"Bachelors_Degree\", \"Doctorate_Degree\", \"Highschool\", \"Race_Asian\", \"Race_White\", \"Race_Black\", \"Race_Hispanic\", \"Age\", \"Height\", \"Zodiac\", \"SAT\", \"GPA\"]]\n",
    "X_train, X_test, y_train, y_test = model_selection.train_test_split(X_df_2, df[\"gender\"], test_size=0.3, random_state=0)\n",
    "model = LogisticRegression().fit(X_train, y_train)\n",
    "\n",
    "y_pred = model.predict(X_test)\n",
    "print('Accuracy of logistic regression classifier on test set: {:.2f}'.format(model.score(X_test, y_test)))"
   ]
  },
  {
   "cell_type": "code",
   "execution_count": 370,
   "id": "68c982a1",
   "metadata": {},
   "outputs": [
    {
     "name": "stdout",
     "output_type": "stream",
     "text": [
      "              precision    recall  f1-score   support\n",
      "\n",
      "           0       0.82      1.00      0.90      5292\n",
      "           1       0.00      0.00      0.00      1185\n",
      "\n",
      "    accuracy                           0.82      6477\n",
      "   macro avg       0.41      0.50      0.45      6477\n",
      "weighted avg       0.67      0.82      0.73      6477\n",
      "\n"
     ]
    },
    {
     "data": {
      "image/png": "[encoded data removed]",
      "text/plain": [
       "<Figure size 432x288 with 1 Axes>"
      ]
     },
     "metadata": {
      "needs_background": "light"
     },
     "output_type": "display_data"
    }
   ],
   "source": [
    "print(metrics.classification_report(y_test, y_pred))\n",
    "model_roc_auc = metrics.roc_auc_score(y_test, model.predict(X_test))\n",
    "fpr, tpr, thresholds = metrics.roc_curve(y_test, model.predict_proba(X_test)[:,1])\n",
    "plt.figure()\n",
    "plt.plot(fpr, tpr, label='Logistic Regression (area = %0.2f)' % model_roc_auc)\n",
    "plt.plot([0, 1], [0, 1],'r--')\n",
    "plt.xlim([0.0, 1.0])\n",
    "plt.ylim([0.0, 1.05])\n",
    "plt.xlabel('False Positive Rate')\n",
    "plt.ylabel('True Positive Rate')\n",
    "plt.title('Receiver operating characteristic')\n",
    "plt.legend(loc=\"lower right\")\n",
    "plt.savefig('Log_ROC')\n",
    "plt.show()"
   ]
  },
  {
   "cell_type": "code",
   "execution_count": 371,
   "id": "15e28682",
   "metadata": {},
   "outputs": [
    {
     "data": {
      "text/plain": [
       "array([[-8.57818040e-07, -6.08184031e-06, -3.47021104e-06,\n",
       "        -2.33255286e-07, -8.53271175e-07, -2.47171689e-08,\n",
       "        -6.20531365e-08, -7.09185662e-07, -4.36386954e-07,\n",
       "         1.84250281e-08, -1.00650664e-07, -4.23277335e-05,\n",
       "        -8.12448726e-05, -7.76908676e-06, -1.21372230e-03,\n",
       "        -3.32382462e-06]])"
      ]
     },
     "execution_count": 371,
     "metadata": {},
     "output_type": "execute_result"
    }
   ],
   "source": [
    "model.coef_"
   ]
  },
  {
   "cell_type": "markdown",
   "id": "eb4ff464",
   "metadata": {},
   "source": [
    "# Question 5"
   ]
  },
  {
   "cell_type": "code",
   "execution_count": 372,
   "id": "cfd48f9e",
   "metadata": {},
   "outputs": [
    {
     "data": {
      "text/plain": [
       "174000.0"
      ]
     },
     "execution_count": 372,
     "metadata": {},
     "output_type": "execute_result"
    }
   ],
   "source": [
    "median = y_df.median()[0]\n",
    "median"
   ]
  },
  {
   "cell_type": "code",
   "execution_count": 373,
   "id": "f80b643e",
   "metadata": {},
   "outputs": [],
   "source": [
    "y_df[\"paylevel\"] = np.where(df[\"totalyearlycompensation\"] >= median, 1, 0)"
   ]
  },
  {
   "cell_type": "code",
   "execution_count": 374,
   "id": "a04357f6",
   "metadata": {},
   "outputs": [
    {
     "data": {
      "text/html": [
       "<div>\n",
       "<style scoped>\n",
       "    .dataframe tbody tr th:only-of-type {\n",
       "        vertical-align: middle;\n",
       "    }\n",
       "\n",
       "    .dataframe tbody tr th {\n",
       "        vertical-align: top;\n",
       "    }\n",
       "\n",
       "    .dataframe thead th {\n",
       "        text-align: right;\n",
       "    }\n",
       "</style>\n",
       "<table border=\"1\" class=\"dataframe\">\n",
       "  <thead>\n",
       "    <tr style=\"text-align: right;\">\n",
       "      <th></th>\n",
       "      <th>totalyearlycompensation</th>\n",
       "      <th>paylevel</th>\n",
       "    </tr>\n",
       "  </thead>\n",
       "  <tbody>\n",
       "    <tr>\n",
       "      <th>15710</th>\n",
       "      <td>400000</td>\n",
       "      <td>1</td>\n",
       "    </tr>\n",
       "    <tr>\n",
       "      <th>23532</th>\n",
       "      <td>136000</td>\n",
       "      <td>0</td>\n",
       "    </tr>\n",
       "    <tr>\n",
       "      <th>23533</th>\n",
       "      <td>337000</td>\n",
       "      <td>1</td>\n",
       "    </tr>\n",
       "    <tr>\n",
       "      <th>23534</th>\n",
       "      <td>222000</td>\n",
       "      <td>1</td>\n",
       "    </tr>\n",
       "    <tr>\n",
       "      <th>23535</th>\n",
       "      <td>187000</td>\n",
       "      <td>1</td>\n",
       "    </tr>\n",
       "    <tr>\n",
       "      <th>...</th>\n",
       "      <td>...</td>\n",
       "      <td>...</td>\n",
       "    </tr>\n",
       "    <tr>\n",
       "      <th>61981</th>\n",
       "      <td>1470000</td>\n",
       "      <td>1</td>\n",
       "    </tr>\n",
       "    <tr>\n",
       "      <th>61982</th>\n",
       "      <td>4500000</td>\n",
       "      <td>1</td>\n",
       "    </tr>\n",
       "    <tr>\n",
       "      <th>61984</th>\n",
       "      <td>1605000</td>\n",
       "      <td>1</td>\n",
       "    </tr>\n",
       "    <tr>\n",
       "      <th>61987</th>\n",
       "      <td>2372000</td>\n",
       "      <td>1</td>\n",
       "    </tr>\n",
       "    <tr>\n",
       "      <th>61991</th>\n",
       "      <td>4980000</td>\n",
       "      <td>1</td>\n",
       "    </tr>\n",
       "  </tbody>\n",
       "</table>\n",
       "<p>21589 rows × 2 columns</p>\n",
       "</div>"
      ],
      "text/plain": [
       "       totalyearlycompensation  paylevel\n",
       "15710                   400000         1\n",
       "23532                   136000         0\n",
       "23533                   337000         1\n",
       "23534                   222000         1\n",
       "23535                   187000         1\n",
       "...                        ...       ...\n",
       "61981                  1470000         1\n",
       "61982                  4500000         1\n",
       "61984                  1605000         1\n",
       "61987                  2372000         1\n",
       "61991                  4980000         1\n",
       "\n",
       "[21589 rows x 2 columns]"
      ]
     },
     "execution_count": 374,
     "metadata": {},
     "output_type": "execute_result"
    }
   ],
   "source": [
    "y_df"
   ]
  },
  {
   "cell_type": "code",
   "execution_count": 375,
   "id": "6d35ef7e",
   "metadata": {},
   "outputs": [
    {
     "name": "stdout",
     "output_type": "stream",
     "text": [
      "Accuracy of logistic regression classifier on test set: 0.65\n"
     ]
    }
   ],
   "source": [
    "X_train, X_test, y_train, y_test = model_selection.train_test_split(df[[\"yearsofexperience\"]], y_df[\"paylevel\"], test_size=0.3, random_state=0)\n",
    "model = LogisticRegression().fit(X_train, y_train)\n",
    "\n",
    "y_pred = model.predict(X_test)\n",
    "print('Accuracy of logistic regression classifier on test set: {:.2f}'.format(model.score(X_test, y_test)))"
   ]
  },
  {
   "cell_type": "code",
   "execution_count": 376,
   "id": "8ad52d73",
   "metadata": {},
   "outputs": [
    {
     "name": "stdout",
     "output_type": "stream",
     "text": [
      "              precision    recall  f1-score   support\n",
      "\n",
      "           0       0.63      0.72      0.67      3187\n",
      "           1       0.68      0.58      0.63      3290\n",
      "\n",
      "    accuracy                           0.65      6477\n",
      "   macro avg       0.65      0.65      0.65      6477\n",
      "weighted avg       0.65      0.65      0.65      6477\n",
      "\n"
     ]
    },
    {
     "data": {
      "image/png": "[encoded data removed]",
      "text/plain": [
       "<Figure size 432x288 with 1 Axes>"
      ]
     },
     "metadata": {
      "needs_background": "light"
     },
     "output_type": "display_data"
    }
   ],
   "source": [
    "print(metrics.classification_report(y_test, y_pred))\n",
    "model_roc_auc = metrics.roc_auc_score(y_test, model.predict(X_test))\n",
    "fpr, tpr, thresholds = metrics.roc_curve(y_test, model.predict_proba(X_test)[:,1])\n",
    "plt.figure()\n",
    "plt.plot(fpr, tpr, label='Logistic Regression (area = %0.2f)' % model_roc_auc)\n",
    "plt.plot([0, 1], [0, 1],'r--')\n",
    "plt.xlim([0.0, 1.0])\n",
    "plt.ylim([0.0, 1.05])\n",
    "plt.xlabel('False Positive Rate')\n",
    "plt.ylabel('True Positive Rate')\n",
    "plt.title('Receiver operating characteristic')\n",
    "plt.legend(loc=\"lower right\")\n",
    "plt.savefig('Log_ROC')\n",
    "plt.show()"
   ]
  },
  {
   "cell_type": "code",
   "execution_count": 377,
   "id": "fc881266",
   "metadata": {},
   "outputs": [
    {
     "name": "stdout",
     "output_type": "stream",
     "text": [
      "Accuracy of logistic regression classifier on test set: 0.58\n"
     ]
    }
   ],
   "source": [
    "X_train, X_test, y_train, y_test = model_selection.train_test_split(df[[\"Age\"]], y_df[\"paylevel\"], test_size=0.3, random_state=0)\n",
    "model = LogisticRegression().fit(X_train, y_train)\n",
    "\n",
    "y_pred = model.predict(X_test)\n",
    "print('Accuracy of logistic regression classifier on test set: {:.2f}'.format(model.score(X_test, y_test)))"
   ]
  },
  {
   "cell_type": "code",
   "execution_count": 378,
   "id": "311688f6",
   "metadata": {},
   "outputs": [
    {
     "name": "stdout",
     "output_type": "stream",
     "text": [
      "              precision    recall  f1-score   support\n",
      "\n",
      "           0       0.57      0.59      0.58      3187\n",
      "           1       0.59      0.57      0.58      3290\n",
      "\n",
      "    accuracy                           0.58      6477\n",
      "   macro avg       0.58      0.58      0.58      6477\n",
      "weighted avg       0.58      0.58      0.58      6477\n",
      "\n"
     ]
    },
    {
     "data": {
      "image/png": "[encoded data removed]",
      "text/plain": [
       "<Figure size 432x288 with 1 Axes>"
      ]
     },
     "metadata": {
      "needs_background": "light"
     },
     "output_type": "display_data"
    }
   ],
   "source": [
    "print(metrics.classification_report(y_test, y_pred))\n",
    "model_roc_auc = metrics.roc_auc_score(y_test, model.predict(X_test))\n",
    "fpr, tpr, thresholds = metrics.roc_curve(y_test, model.predict_proba(X_test)[:,1])\n",
    "plt.figure()\n",
    "plt.plot(fpr, tpr, label='Logistic Regression (area = %0.2f)' % model_roc_auc)\n",
    "plt.plot([0, 1], [0, 1],'r--')\n",
    "plt.xlim([0.0, 1.0])\n",
    "plt.ylim([0.0, 1.05])\n",
    "plt.xlabel('False Positive Rate')\n",
    "plt.ylabel('True Positive Rate')\n",
    "plt.title('Receiver operating characteristic')\n",
    "plt.legend(loc=\"lower right\")\n",
    "plt.savefig('Log_ROC')\n",
    "plt.show()"
   ]
  },
  {
   "cell_type": "code",
   "execution_count": 379,
   "id": "76dc6b5a",
   "metadata": {},
   "outputs": [
    {
     "name": "stdout",
     "output_type": "stream",
     "text": [
      "Accuracy of logistic regression classifier on test set: 0.49\n"
     ]
    }
   ],
   "source": [
    "X_train, X_test, y_train, y_test = model_selection.train_test_split(df[[\"Height\"]], y_df[\"paylevel\"], test_size=0.3, random_state=0)\n",
    "model = LogisticRegression().fit(X_train, y_train)\n",
    "\n",
    "y_pred = model.predict(X_test)\n",
    "print('Accuracy of logistic regression classifier on test set: {:.2f}'.format(model.score(X_test, y_test)))"
   ]
  },
  {
   "cell_type": "code",
   "execution_count": 380,
   "id": "a54b3a87",
   "metadata": {},
   "outputs": [
    {
     "name": "stdout",
     "output_type": "stream",
     "text": [
      "              precision    recall  f1-score   support\n",
      "\n",
      "           0       0.49      1.00      0.66      3187\n",
      "           1       0.00      0.00      0.00      3290\n",
      "\n",
      "    accuracy                           0.49      6477\n",
      "   macro avg       0.25      0.50      0.33      6477\n",
      "weighted avg       0.24      0.49      0.32      6477\n",
      "\n"
     ]
    },
    {
     "data": {
      "image/png": "[encoded data removed]",
      "text/plain": [
       "<Figure size 432x288 with 1 Axes>"
      ]
     },
     "metadata": {
      "needs_background": "light"
     },
     "output_type": "display_data"
    }
   ],
   "source": [
    "print(metrics.classification_report(y_test, y_pred))\n",
    "model_roc_auc = metrics.roc_auc_score(y_test, model.predict(X_test))\n",
    "fpr, tpr, thresholds = metrics.roc_curve(y_test, model.predict_proba(X_test)[:,1])\n",
    "plt.figure()\n",
    "plt.plot(fpr, tpr, label='Logistic Regression (area = %0.2f)' % model_roc_auc)\n",
    "plt.plot([0, 1], [0, 1],'r--')\n",
    "plt.xlim([0.0, 1.0])\n",
    "plt.ylim([0.0, 1.05])\n",
    "plt.xlabel('False Positive Rate')\n",
    "plt.ylabel('True Positive Rate')\n",
    "plt.title('Receiver operating characteristic')\n",
    "plt.legend(loc=\"lower right\")\n",
    "plt.savefig('Log_ROC')\n",
    "plt.show()"
   ]
  },
  {
   "cell_type": "code",
   "execution_count": 381,
   "id": "75513664",
   "metadata": {},
   "outputs": [
    {
     "name": "stdout",
     "output_type": "stream",
     "text": [
      "Accuracy of logistic regression classifier on test set: 0.60\n"
     ]
    }
   ],
   "source": [
    "X_train, X_test, y_train, y_test = model_selection.train_test_split(df[[\"SAT\"]], y_df[\"paylevel\"], test_size=0.3, random_state=0)\n",
    "model = LogisticRegression().fit(X_train, y_train)\n",
    "\n",
    "y_pred = model.predict(X_test)\n",
    "print('Accuracy of logistic regression classifier on test set: {:.2f}'.format(model.score(X_test, y_test)))"
   ]
  },
  {
   "cell_type": "code",
   "execution_count": 382,
   "id": "46805c5e",
   "metadata": {},
   "outputs": [
    {
     "name": "stdout",
     "output_type": "stream",
     "text": [
      "              precision    recall  f1-score   support\n",
      "\n",
      "           0       0.60      0.57      0.59      3187\n",
      "           1       0.60      0.63      0.62      3290\n",
      "\n",
      "    accuracy                           0.60      6477\n",
      "   macro avg       0.60      0.60      0.60      6477\n",
      "weighted avg       0.60      0.60      0.60      6477\n",
      "\n"
     ]
    },
    {
     "data": {
      "image/png": "[encoded data removed]",
      "text/plain": [
       "<Figure size 432x288 with 1 Axes>"
      ]
     },
     "metadata": {
      "needs_background": "light"
     },
     "output_type": "display_data"
    }
   ],
   "source": [
    "print(metrics.classification_report(y_test, y_pred))\n",
    "model_roc_auc = metrics.roc_auc_score(y_test, model.predict(X_test))\n",
    "fpr, tpr, thresholds = metrics.roc_curve(y_test, model.predict_proba(X_test)[:,1])\n",
    "plt.figure()\n",
    "plt.plot(fpr, tpr, label='Logistic Regression (area = %0.2f)' % model_roc_auc)\n",
    "plt.plot([0, 1], [0, 1],'r--')\n",
    "plt.xlim([0.0, 1.0])\n",
    "plt.ylim([0.0, 1.05])\n",
    "plt.xlabel('False Positive Rate')\n",
    "plt.ylabel('True Positive Rate')\n",
    "plt.title('Receiver operating characteristic')\n",
    "plt.legend(loc=\"lower right\")\n",
    "plt.savefig('Log_ROC')\n",
    "plt.show()"
   ]
  },
  {
   "cell_type": "code",
   "execution_count": 383,
   "id": "1a41c57d",
   "metadata": {},
   "outputs": [
    {
     "name": "stdout",
     "output_type": "stream",
     "text": [
      "Accuracy of logistic regression classifier on test set: 0.59\n"
     ]
    }
   ],
   "source": [
    "X_train, X_test, y_train, y_test = model_selection.train_test_split(df[[\"GPA\"]], y_df[\"paylevel\"], test_size=0.3, random_state=0)\n",
    "model = LogisticRegression().fit(X_train, y_train)\n",
    "\n",
    "y_pred = model.predict(X_test)\n",
    "print('Accuracy of logistic regression classifier on test set: {:.2f}'.format(model.score(X_test, y_test)))"
   ]
  },
  {
   "cell_type": "code",
   "execution_count": 384,
   "id": "b0dce0b4",
   "metadata": {},
   "outputs": [
    {
     "name": "stdout",
     "output_type": "stream",
     "text": [
      "              precision    recall  f1-score   support\n",
      "\n",
      "           0       0.59      0.58      0.58      3187\n",
      "           1       0.60      0.61      0.60      3290\n",
      "\n",
      "    accuracy                           0.59      6477\n",
      "   macro avg       0.59      0.59      0.59      6477\n",
      "weighted avg       0.59      0.59      0.59      6477\n",
      "\n"
     ]
    },
    {
     "data": {
      "image/png": "[encoded data removed]",
      "text/plain": [
       "<Figure size 432x288 with 1 Axes>"
      ]
     },
     "metadata": {
      "needs_background": "light"
     },
     "output_type": "display_data"
    }
   ],
   "source": [
    "print(metrics.classification_report(y_test, y_pred))\n",
    "model_roc_auc = metrics.roc_auc_score(y_test, model.predict(X_test))\n",
    "fpr, tpr, thresholds = metrics.roc_curve(y_test, model.predict_proba(X_test)[:,1])\n",
    "plt.figure()\n",
    "plt.plot(fpr, tpr, label='Logistic Regression (area = %0.2f)' % model_roc_auc)\n",
    "plt.plot([0, 1], [0, 1],'r--')\n",
    "plt.xlim([0.0, 1.0])\n",
    "plt.ylim([0.0, 1.05])\n",
    "plt.xlabel('False Positive Rate')\n",
    "plt.ylabel('True Positive Rate')\n",
    "plt.title('Receiver operating characteristic')\n",
    "plt.legend(loc=\"lower right\")\n",
    "plt.savefig('Log_ROC')\n",
    "plt.show()"
   ]
  },
  {
   "cell_type": "markdown",
   "id": "8e2273bd",
   "metadata": {},
   "source": [
    "# Extra Credit 1"
   ]
  },
  {
   "cell_type": "code",
   "execution_count": 385,
   "id": "c9dbd112",
   "metadata": {},
   "outputs": [
    {
     "data": {
      "image/png": "[encoded data removed]",
      "text/plain": [
       "<Figure size 432x288 with 1 Axes>"
      ]
     },
     "metadata": {
      "needs_background": "light"
     },
     "output_type": "display_data"
    }
   ],
   "source": [
    "salary = df[\"basesalary\"].hist(bins=100)"
   ]
  },
  {
   "cell_type": "code",
   "execution_count": 386,
   "id": "70d24740",
   "metadata": {},
   "outputs": [
    {
     "data": {
      "image/png": "[encoded data removed]",
      "text/plain": [
       "<Figure size 432x288 with 1 Axes>"
      ]
     },
     "metadata": {
      "needs_background": "light"
     },
     "output_type": "display_data"
    }
   ],
   "source": [
    "height = df[\"Height\"].hist(bins=100)"
   ]
  },
  {
   "cell_type": "code",
   "execution_count": 387,
   "id": "8821616d",
   "metadata": {},
   "outputs": [
    {
     "data": {
      "image/png": "[encoded data removed]",
      "text/plain": [
       "<Figure size 432x288 with 1 Axes>"
      ]
     },
     "metadata": {
      "needs_background": "light"
     },
     "output_type": "display_data"
    }
   ],
   "source": [
    "age = df[\"Age\"].hist(bins=100)"
   ]
  },
  {
   "cell_type": "markdown",
   "id": "10b70b93",
   "metadata": {},
   "source": [
    "# Extra Credit 2"
   ]
  },
  {
   "cell_type": "code",
   "execution_count": 388,
   "id": "bb118edf",
   "metadata": {},
   "outputs": [
    {
     "name": "stdout",
     "output_type": "stream",
     "text": [
      "0.11071695461350883\n"
     ]
    }
   ],
   "source": [
    "model = LinearRegression().fit(X_df_1[[\"SAT\"]], y)\n",
    "rSqr = model.score(X_df_1[[\"SAT\"]], y)\n",
    "print(rSqr)"
   ]
  }
 ],
 "metadata": {
  "kernelspec": {
   "display_name": "Python 3 (ipykernel)",
   "language": "python",
   "name": "python3"
  },
  "language_info": {
   "codemirror_mode": {
    "name": "ipython",
    "version": 3
   },
   "file_extension": ".py",
   "mimetype": "text/x-python",
   "name": "python",
   "nbconvert_exporter": "python",
   "pygments_lexer": "ipython3",
   "version": "3.8.8"
  }
 },
 "nbformat": 4,
 "nbformat_minor": 5
}
