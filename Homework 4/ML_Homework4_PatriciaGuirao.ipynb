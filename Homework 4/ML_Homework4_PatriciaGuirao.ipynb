{
 "cells": [
  {
   "cell_type": "code",
   "execution_count": 1,
   "id": "96434a04",
   "metadata": {},
   "outputs": [],
   "source": [
    "import matplotlib.pyplot as plt\n",
    "import pandas as pd\n",
    "import numpy as np\n",
    "from sklearn.preprocessing import OneHotEncoder\n",
    "import sklearn\n",
    "from sklearn.linear_model import LogisticRegression\n",
    "from sklearn import metrics, model_selection, tree\n",
    "from sklearn.svm import LinearSVC\n",
    "from sklearn.calibration import CalibratedClassifierCV\n",
    "from sklearn.ensemble import RandomForestClassifier, AdaBoostClassifier\n",
    "from sklearn.linear_model import Perceptron\n",
    "from sklearn.neural_network import MLPClassifier\n",
    "from sklearn.neural_network import MLPRegressor\n",
    "from sklearn.feature_selection import SelectFromModel\n",
    "from sklearn.linear_model import Lasso"
   ]
  },
  {
   "cell_type": "code",
   "execution_count": 2,
   "id": "464ea627",
   "metadata": {},
   "outputs": [],
   "source": [
    "df = pd.read_csv('diabetes - Copy.csv')"
   ]
  },
  {
   "cell_type": "code",
   "execution_count": 3,
   "id": "65b6913c",
   "metadata": {},
   "outputs": [
    {
     "data": {
      "text/html": [
       "<div>\n",
       "<style scoped>\n",
       "    .dataframe tbody tr th:only-of-type {\n",
       "        vertical-align: middle;\n",
       "    }\n",
       "\n",
       "    .dataframe tbody tr th {\n",
       "        vertical-align: top;\n",
       "    }\n",
       "\n",
       "    .dataframe thead th {\n",
       "        text-align: right;\n",
       "    }\n",
       "</style>\n",
       "<table border=\"1\" class=\"dataframe\">\n",
       "  <thead>\n",
       "    <tr style=\"text-align: right;\">\n",
       "      <th></th>\n",
       "      <th>Diabetes</th>\n",
       "      <th>HighBP</th>\n",
       "      <th>HighChol</th>\n",
       "      <th>BMI</th>\n",
       "      <th>Smoker</th>\n",
       "      <th>Stroke</th>\n",
       "      <th>Myocardial</th>\n",
       "      <th>PhysActivity</th>\n",
       "      <th>Fruit</th>\n",
       "      <th>Vegetables</th>\n",
       "      <th>...</th>\n",
       "      <th>NotAbleToAffordDoctor</th>\n",
       "      <th>GeneralHealth</th>\n",
       "      <th>MentalHealth</th>\n",
       "      <th>PhysicalHealth</th>\n",
       "      <th>HardToClimbStairs</th>\n",
       "      <th>BiologicalSex</th>\n",
       "      <th>AgeBracket</th>\n",
       "      <th>EducationBracket</th>\n",
       "      <th>IncomeBracket</th>\n",
       "      <th>Zodiac</th>\n",
       "    </tr>\n",
       "  </thead>\n",
       "  <tbody>\n",
       "    <tr>\n",
       "      <th>0</th>\n",
       "      <td>0</td>\n",
       "      <td>1</td>\n",
       "      <td>1</td>\n",
       "      <td>40</td>\n",
       "      <td>1</td>\n",
       "      <td>0</td>\n",
       "      <td>0</td>\n",
       "      <td>0</td>\n",
       "      <td>0</td>\n",
       "      <td>1</td>\n",
       "      <td>...</td>\n",
       "      <td>0</td>\n",
       "      <td>5</td>\n",
       "      <td>18</td>\n",
       "      <td>15</td>\n",
       "      <td>1</td>\n",
       "      <td>1</td>\n",
       "      <td>9</td>\n",
       "      <td>4</td>\n",
       "      <td>3</td>\n",
       "      <td>10</td>\n",
       "    </tr>\n",
       "    <tr>\n",
       "      <th>1</th>\n",
       "      <td>0</td>\n",
       "      <td>0</td>\n",
       "      <td>0</td>\n",
       "      <td>25</td>\n",
       "      <td>1</td>\n",
       "      <td>0</td>\n",
       "      <td>0</td>\n",
       "      <td>1</td>\n",
       "      <td>0</td>\n",
       "      <td>0</td>\n",
       "      <td>...</td>\n",
       "      <td>1</td>\n",
       "      <td>3</td>\n",
       "      <td>0</td>\n",
       "      <td>0</td>\n",
       "      <td>0</td>\n",
       "      <td>1</td>\n",
       "      <td>7</td>\n",
       "      <td>6</td>\n",
       "      <td>1</td>\n",
       "      <td>11</td>\n",
       "    </tr>\n",
       "    <tr>\n",
       "      <th>2</th>\n",
       "      <td>0</td>\n",
       "      <td>1</td>\n",
       "      <td>1</td>\n",
       "      <td>28</td>\n",
       "      <td>0</td>\n",
       "      <td>0</td>\n",
       "      <td>0</td>\n",
       "      <td>0</td>\n",
       "      <td>1</td>\n",
       "      <td>0</td>\n",
       "      <td>...</td>\n",
       "      <td>1</td>\n",
       "      <td>5</td>\n",
       "      <td>30</td>\n",
       "      <td>30</td>\n",
       "      <td>1</td>\n",
       "      <td>1</td>\n",
       "      <td>9</td>\n",
       "      <td>4</td>\n",
       "      <td>8</td>\n",
       "      <td>2</td>\n",
       "    </tr>\n",
       "    <tr>\n",
       "      <th>3</th>\n",
       "      <td>0</td>\n",
       "      <td>1</td>\n",
       "      <td>0</td>\n",
       "      <td>27</td>\n",
       "      <td>0</td>\n",
       "      <td>0</td>\n",
       "      <td>0</td>\n",
       "      <td>1</td>\n",
       "      <td>1</td>\n",
       "      <td>1</td>\n",
       "      <td>...</td>\n",
       "      <td>0</td>\n",
       "      <td>2</td>\n",
       "      <td>0</td>\n",
       "      <td>0</td>\n",
       "      <td>0</td>\n",
       "      <td>1</td>\n",
       "      <td>11</td>\n",
       "      <td>3</td>\n",
       "      <td>6</td>\n",
       "      <td>11</td>\n",
       "    </tr>\n",
       "    <tr>\n",
       "      <th>4</th>\n",
       "      <td>0</td>\n",
       "      <td>1</td>\n",
       "      <td>1</td>\n",
       "      <td>24</td>\n",
       "      <td>0</td>\n",
       "      <td>0</td>\n",
       "      <td>0</td>\n",
       "      <td>1</td>\n",
       "      <td>1</td>\n",
       "      <td>1</td>\n",
       "      <td>...</td>\n",
       "      <td>0</td>\n",
       "      <td>2</td>\n",
       "      <td>3</td>\n",
       "      <td>0</td>\n",
       "      <td>0</td>\n",
       "      <td>1</td>\n",
       "      <td>11</td>\n",
       "      <td>5</td>\n",
       "      <td>4</td>\n",
       "      <td>8</td>\n",
       "    </tr>\n",
       "    <tr>\n",
       "      <th>...</th>\n",
       "      <td>...</td>\n",
       "      <td>...</td>\n",
       "      <td>...</td>\n",
       "      <td>...</td>\n",
       "      <td>...</td>\n",
       "      <td>...</td>\n",
       "      <td>...</td>\n",
       "      <td>...</td>\n",
       "      <td>...</td>\n",
       "      <td>...</td>\n",
       "      <td>...</td>\n",
       "      <td>...</td>\n",
       "      <td>...</td>\n",
       "      <td>...</td>\n",
       "      <td>...</td>\n",
       "      <td>...</td>\n",
       "      <td>...</td>\n",
       "      <td>...</td>\n",
       "      <td>...</td>\n",
       "      <td>...</td>\n",
       "      <td>...</td>\n",
       "    </tr>\n",
       "    <tr>\n",
       "      <th>253675</th>\n",
       "      <td>0</td>\n",
       "      <td>1</td>\n",
       "      <td>1</td>\n",
       "      <td>45</td>\n",
       "      <td>0</td>\n",
       "      <td>0</td>\n",
       "      <td>0</td>\n",
       "      <td>0</td>\n",
       "      <td>1</td>\n",
       "      <td>1</td>\n",
       "      <td>...</td>\n",
       "      <td>0</td>\n",
       "      <td>3</td>\n",
       "      <td>0</td>\n",
       "      <td>5</td>\n",
       "      <td>0</td>\n",
       "      <td>2</td>\n",
       "      <td>5</td>\n",
       "      <td>6</td>\n",
       "      <td>7</td>\n",
       "      <td>11</td>\n",
       "    </tr>\n",
       "    <tr>\n",
       "      <th>253676</th>\n",
       "      <td>1</td>\n",
       "      <td>1</td>\n",
       "      <td>1</td>\n",
       "      <td>18</td>\n",
       "      <td>0</td>\n",
       "      <td>0</td>\n",
       "      <td>0</td>\n",
       "      <td>0</td>\n",
       "      <td>0</td>\n",
       "      <td>0</td>\n",
       "      <td>...</td>\n",
       "      <td>0</td>\n",
       "      <td>4</td>\n",
       "      <td>0</td>\n",
       "      <td>0</td>\n",
       "      <td>1</td>\n",
       "      <td>1</td>\n",
       "      <td>11</td>\n",
       "      <td>2</td>\n",
       "      <td>4</td>\n",
       "      <td>6</td>\n",
       "    </tr>\n",
       "    <tr>\n",
       "      <th>253677</th>\n",
       "      <td>0</td>\n",
       "      <td>0</td>\n",
       "      <td>0</td>\n",
       "      <td>28</td>\n",
       "      <td>0</td>\n",
       "      <td>0</td>\n",
       "      <td>0</td>\n",
       "      <td>1</td>\n",
       "      <td>1</td>\n",
       "      <td>0</td>\n",
       "      <td>...</td>\n",
       "      <td>0</td>\n",
       "      <td>1</td>\n",
       "      <td>0</td>\n",
       "      <td>0</td>\n",
       "      <td>0</td>\n",
       "      <td>1</td>\n",
       "      <td>2</td>\n",
       "      <td>5</td>\n",
       "      <td>2</td>\n",
       "      <td>5</td>\n",
       "    </tr>\n",
       "    <tr>\n",
       "      <th>253678</th>\n",
       "      <td>0</td>\n",
       "      <td>1</td>\n",
       "      <td>0</td>\n",
       "      <td>23</td>\n",
       "      <td>0</td>\n",
       "      <td>0</td>\n",
       "      <td>0</td>\n",
       "      <td>0</td>\n",
       "      <td>1</td>\n",
       "      <td>1</td>\n",
       "      <td>...</td>\n",
       "      <td>0</td>\n",
       "      <td>3</td>\n",
       "      <td>0</td>\n",
       "      <td>0</td>\n",
       "      <td>0</td>\n",
       "      <td>2</td>\n",
       "      <td>7</td>\n",
       "      <td>5</td>\n",
       "      <td>1</td>\n",
       "      <td>6</td>\n",
       "    </tr>\n",
       "    <tr>\n",
       "      <th>253679</th>\n",
       "      <td>1</td>\n",
       "      <td>1</td>\n",
       "      <td>1</td>\n",
       "      <td>25</td>\n",
       "      <td>0</td>\n",
       "      <td>0</td>\n",
       "      <td>1</td>\n",
       "      <td>1</td>\n",
       "      <td>1</td>\n",
       "      <td>0</td>\n",
       "      <td>...</td>\n",
       "      <td>0</td>\n",
       "      <td>2</td>\n",
       "      <td>0</td>\n",
       "      <td>0</td>\n",
       "      <td>0</td>\n",
       "      <td>1</td>\n",
       "      <td>9</td>\n",
       "      <td>6</td>\n",
       "      <td>2</td>\n",
       "      <td>6</td>\n",
       "    </tr>\n",
       "  </tbody>\n",
       "</table>\n",
       "<p>253680 rows × 22 columns</p>\n",
       "</div>"
      ],
      "text/plain": [
       "        Diabetes  HighBP  HighChol  BMI  Smoker  Stroke  Myocardial  \\\n",
       "0              0       1         1   40       1       0           0   \n",
       "1              0       0         0   25       1       0           0   \n",
       "2              0       1         1   28       0       0           0   \n",
       "3              0       1         0   27       0       0           0   \n",
       "4              0       1         1   24       0       0           0   \n",
       "...          ...     ...       ...  ...     ...     ...         ...   \n",
       "253675         0       1         1   45       0       0           0   \n",
       "253676         1       1         1   18       0       0           0   \n",
       "253677         0       0         0   28       0       0           0   \n",
       "253678         0       1         0   23       0       0           0   \n",
       "253679         1       1         1   25       0       0           1   \n",
       "\n",
       "        PhysActivity  Fruit  Vegetables  ...  NotAbleToAffordDoctor  \\\n",
       "0                  0      0           1  ...                      0   \n",
       "1                  1      0           0  ...                      1   \n",
       "2                  0      1           0  ...                      1   \n",
       "3                  1      1           1  ...                      0   \n",
       "4                  1      1           1  ...                      0   \n",
       "...              ...    ...         ...  ...                    ...   \n",
       "253675             0      1           1  ...                      0   \n",
       "253676             0      0           0  ...                      0   \n",
       "253677             1      1           0  ...                      0   \n",
       "253678             0      1           1  ...                      0   \n",
       "253679             1      1           0  ...                      0   \n",
       "\n",
       "        GeneralHealth  MentalHealth  PhysicalHealth  HardToClimbStairs  \\\n",
       "0                   5            18              15                  1   \n",
       "1                   3             0               0                  0   \n",
       "2                   5            30              30                  1   \n",
       "3                   2             0               0                  0   \n",
       "4                   2             3               0                  0   \n",
       "...               ...           ...             ...                ...   \n",
       "253675              3             0               5                  0   \n",
       "253676              4             0               0                  1   \n",
       "253677              1             0               0                  0   \n",
       "253678              3             0               0                  0   \n",
       "253679              2             0               0                  0   \n",
       "\n",
       "        BiologicalSex  AgeBracket  EducationBracket  IncomeBracket  Zodiac  \n",
       "0                   1           9                 4              3      10  \n",
       "1                   1           7                 6              1      11  \n",
       "2                   1           9                 4              8       2  \n",
       "3                   1          11                 3              6      11  \n",
       "4                   1          11                 5              4       8  \n",
       "...               ...         ...               ...            ...     ...  \n",
       "253675              2           5                 6              7      11  \n",
       "253676              1          11                 2              4       6  \n",
       "253677              1           2                 5              2       5  \n",
       "253678              2           7                 5              1       6  \n",
       "253679              1           9                 6              2       6  \n",
       "\n",
       "[253680 rows x 22 columns]"
      ]
     },
     "execution_count": 3,
     "metadata": {},
     "output_type": "execute_result"
    }
   ],
   "source": [
    "df"
   ]
  },
  {
   "cell_type": "code",
   "execution_count": 4,
   "id": "9f00411c",
   "metadata": {},
   "outputs": [],
   "source": [
    "bmi_mean = df[\"BMI\"].mean()\n",
    "bmi_std = df[\"BMI\"].std()\n",
    "df[\"BMI\"] = (df[\"BMI\"] - bmi_mean)/bmi_std\n",
    "\n",
    "gh_mean = df[\"GeneralHealth\"].mean()\n",
    "gh_std = df[\"GeneralHealth\"].std()\n",
    "df[\"GeneralHealth\"] = (df[\"GeneralHealth\"] - gh_mean)/gh_std\n",
    "\n",
    "mh_mean = df[\"MentalHealth\"].mean()\n",
    "mh_std = df[\"MentalHealth\"].std()\n",
    "df[\"MentalHealth\"] = (df[\"MentalHealth\"] - mh_mean)/mh_std\n",
    "\n",
    "ph_mean = df[\"PhysicalHealth\"].mean()\n",
    "ph_std = df[\"PhysicalHealth\"].std()\n",
    "df[\"PhysicalHealth\"] = (df[\"PhysicalHealth\"] - ph_mean)/ph_std\n",
    "\n",
    "ab_mean = df[\"AgeBracket\"].mean()\n",
    "ab_std = df[\"AgeBracket\"].std()\n",
    "df[\"AgeBracket\"] = (df[\"AgeBracket\"] - ab_mean)/ab_std\n",
    "\n",
    "ib_mean = df[\"IncomeBracket\"].mean()\n",
    "ib_std = df[\"IncomeBracket\"].std()\n",
    "df[\"IncomeBracket\"] = (df[\"IncomeBracket\"] - ib_mean)/ib_std"
   ]
  },
  {
   "cell_type": "code",
   "execution_count": 5,
   "id": "db1be63b",
   "metadata": {},
   "outputs": [],
   "source": [
    "df[\"BiologicalSex\"] = np.where(df[\"BiologicalSex\"] == 1, 0, 1)"
   ]
  },
  {
   "cell_type": "code",
   "execution_count": 6,
   "id": "c8cf0038",
   "metadata": {},
   "outputs": [],
   "source": [
    "encoder = OneHotEncoder(handle_unknown='ignore')\n",
    "encoder_df = pd.DataFrame(encoder.fit_transform(df[[\"EducationBracket\"]]).toarray())\n",
    "encoder_df.columns = [\"Kindergarten\", \"Elementary\", \"HighSchool\", \"GED\", \"College\", \"Graduate\"]\n",
    "df.drop(\"EducationBracket\", axis=1, inplace=True)\n",
    "df = df.join(encoder_df)\n",
    "\n",
    "encoder_df = pd.DataFrame(encoder.fit_transform(df[[\"Zodiac\"]]).toarray())\n",
    "encoder_df.columns = [\"Aries\", \"Taurus\", \"Gemini\", \"Cancer\", \"Leo\", \"Virgo\", \"Libra\", \"Scorpio\", \"Sagittarius\", \"Capricorn\", \"Aquarius\", \"Pisces\"]\n",
    "df.drop(\"Zodiac\", axis=1, inplace=True)\n",
    "df = df.join(encoder_df)"
   ]
  },
  {
   "cell_type": "code",
   "execution_count": 7,
   "id": "f7c5a02a",
   "metadata": {},
   "outputs": [
    {
     "data": {
      "text/html": [
       "<div>\n",
       "<style scoped>\n",
       "    .dataframe tbody tr th:only-of-type {\n",
       "        vertical-align: middle;\n",
       "    }\n",
       "\n",
       "    .dataframe tbody tr th {\n",
       "        vertical-align: top;\n",
       "    }\n",
       "\n",
       "    .dataframe thead th {\n",
       "        text-align: right;\n",
       "    }\n",
       "</style>\n",
       "<table border=\"1\" class=\"dataframe\">\n",
       "  <thead>\n",
       "    <tr style=\"text-align: right;\">\n",
       "      <th></th>\n",
       "      <th>Diabetes</th>\n",
       "      <th>HighBP</th>\n",
       "      <th>HighChol</th>\n",
       "      <th>BMI</th>\n",
       "      <th>Smoker</th>\n",
       "      <th>Stroke</th>\n",
       "      <th>Myocardial</th>\n",
       "      <th>PhysActivity</th>\n",
       "      <th>Fruit</th>\n",
       "      <th>Vegetables</th>\n",
       "      <th>...</th>\n",
       "      <th>Gemini</th>\n",
       "      <th>Cancer</th>\n",
       "      <th>Leo</th>\n",
       "      <th>Virgo</th>\n",
       "      <th>Libra</th>\n",
       "      <th>Scorpio</th>\n",
       "      <th>Sagittarius</th>\n",
       "      <th>Capricorn</th>\n",
       "      <th>Aquarius</th>\n",
       "      <th>Pisces</th>\n",
       "    </tr>\n",
       "  </thead>\n",
       "  <tbody>\n",
       "    <tr>\n",
       "      <th>0</th>\n",
       "      <td>0</td>\n",
       "      <td>1</td>\n",
       "      <td>1</td>\n",
       "      <td>1.757932</td>\n",
       "      <td>1</td>\n",
       "      <td>0</td>\n",
       "      <td>0</td>\n",
       "      <td>0</td>\n",
       "      <td>0</td>\n",
       "      <td>1</td>\n",
       "      <td>...</td>\n",
       "      <td>0.0</td>\n",
       "      <td>0.0</td>\n",
       "      <td>0.0</td>\n",
       "      <td>0.0</td>\n",
       "      <td>0.0</td>\n",
       "      <td>0.0</td>\n",
       "      <td>0.0</td>\n",
       "      <td>1.0</td>\n",
       "      <td>0.0</td>\n",
       "      <td>0.0</td>\n",
       "    </tr>\n",
       "    <tr>\n",
       "      <th>1</th>\n",
       "      <td>0</td>\n",
       "      <td>0</td>\n",
       "      <td>0</td>\n",
       "      <td>-0.511805</td>\n",
       "      <td>1</td>\n",
       "      <td>0</td>\n",
       "      <td>0</td>\n",
       "      <td>1</td>\n",
       "      <td>0</td>\n",
       "      <td>0</td>\n",
       "      <td>...</td>\n",
       "      <td>0.0</td>\n",
       "      <td>0.0</td>\n",
       "      <td>0.0</td>\n",
       "      <td>0.0</td>\n",
       "      <td>0.0</td>\n",
       "      <td>0.0</td>\n",
       "      <td>0.0</td>\n",
       "      <td>0.0</td>\n",
       "      <td>1.0</td>\n",
       "      <td>0.0</td>\n",
       "    </tr>\n",
       "    <tr>\n",
       "      <th>2</th>\n",
       "      <td>0</td>\n",
       "      <td>1</td>\n",
       "      <td>1</td>\n",
       "      <td>-0.057858</td>\n",
       "      <td>0</td>\n",
       "      <td>0</td>\n",
       "      <td>0</td>\n",
       "      <td>0</td>\n",
       "      <td>1</td>\n",
       "      <td>0</td>\n",
       "      <td>...</td>\n",
       "      <td>0.0</td>\n",
       "      <td>0.0</td>\n",
       "      <td>0.0</td>\n",
       "      <td>0.0</td>\n",
       "      <td>0.0</td>\n",
       "      <td>0.0</td>\n",
       "      <td>0.0</td>\n",
       "      <td>0.0</td>\n",
       "      <td>0.0</td>\n",
       "      <td>0.0</td>\n",
       "    </tr>\n",
       "    <tr>\n",
       "      <th>3</th>\n",
       "      <td>0</td>\n",
       "      <td>1</td>\n",
       "      <td>0</td>\n",
       "      <td>-0.209173</td>\n",
       "      <td>0</td>\n",
       "      <td>0</td>\n",
       "      <td>0</td>\n",
       "      <td>1</td>\n",
       "      <td>1</td>\n",
       "      <td>1</td>\n",
       "      <td>...</td>\n",
       "      <td>0.0</td>\n",
       "      <td>0.0</td>\n",
       "      <td>0.0</td>\n",
       "      <td>0.0</td>\n",
       "      <td>0.0</td>\n",
       "      <td>0.0</td>\n",
       "      <td>0.0</td>\n",
       "      <td>0.0</td>\n",
       "      <td>1.0</td>\n",
       "      <td>0.0</td>\n",
       "    </tr>\n",
       "    <tr>\n",
       "      <th>4</th>\n",
       "      <td>0</td>\n",
       "      <td>1</td>\n",
       "      <td>1</td>\n",
       "      <td>-0.663121</td>\n",
       "      <td>0</td>\n",
       "      <td>0</td>\n",
       "      <td>0</td>\n",
       "      <td>1</td>\n",
       "      <td>1</td>\n",
       "      <td>1</td>\n",
       "      <td>...</td>\n",
       "      <td>0.0</td>\n",
       "      <td>0.0</td>\n",
       "      <td>0.0</td>\n",
       "      <td>0.0</td>\n",
       "      <td>0.0</td>\n",
       "      <td>1.0</td>\n",
       "      <td>0.0</td>\n",
       "      <td>0.0</td>\n",
       "      <td>0.0</td>\n",
       "      <td>0.0</td>\n",
       "    </tr>\n",
       "    <tr>\n",
       "      <th>...</th>\n",
       "      <td>...</td>\n",
       "      <td>...</td>\n",
       "      <td>...</td>\n",
       "      <td>...</td>\n",
       "      <td>...</td>\n",
       "      <td>...</td>\n",
       "      <td>...</td>\n",
       "      <td>...</td>\n",
       "      <td>...</td>\n",
       "      <td>...</td>\n",
       "      <td>...</td>\n",
       "      <td>...</td>\n",
       "      <td>...</td>\n",
       "      <td>...</td>\n",
       "      <td>...</td>\n",
       "      <td>...</td>\n",
       "      <td>...</td>\n",
       "      <td>...</td>\n",
       "      <td>...</td>\n",
       "      <td>...</td>\n",
       "      <td>...</td>\n",
       "    </tr>\n",
       "    <tr>\n",
       "      <th>253675</th>\n",
       "      <td>0</td>\n",
       "      <td>1</td>\n",
       "      <td>1</td>\n",
       "      <td>2.514511</td>\n",
       "      <td>0</td>\n",
       "      <td>0</td>\n",
       "      <td>0</td>\n",
       "      <td>0</td>\n",
       "      <td>1</td>\n",
       "      <td>1</td>\n",
       "      <td>...</td>\n",
       "      <td>0.0</td>\n",
       "      <td>0.0</td>\n",
       "      <td>0.0</td>\n",
       "      <td>0.0</td>\n",
       "      <td>0.0</td>\n",
       "      <td>0.0</td>\n",
       "      <td>0.0</td>\n",
       "      <td>0.0</td>\n",
       "      <td>1.0</td>\n",
       "      <td>0.0</td>\n",
       "    </tr>\n",
       "    <tr>\n",
       "      <th>253676</th>\n",
       "      <td>1</td>\n",
       "      <td>1</td>\n",
       "      <td>1</td>\n",
       "      <td>-1.571016</td>\n",
       "      <td>0</td>\n",
       "      <td>0</td>\n",
       "      <td>0</td>\n",
       "      <td>0</td>\n",
       "      <td>0</td>\n",
       "      <td>0</td>\n",
       "      <td>...</td>\n",
       "      <td>0.0</td>\n",
       "      <td>0.0</td>\n",
       "      <td>0.0</td>\n",
       "      <td>1.0</td>\n",
       "      <td>0.0</td>\n",
       "      <td>0.0</td>\n",
       "      <td>0.0</td>\n",
       "      <td>0.0</td>\n",
       "      <td>0.0</td>\n",
       "      <td>0.0</td>\n",
       "    </tr>\n",
       "    <tr>\n",
       "      <th>253677</th>\n",
       "      <td>0</td>\n",
       "      <td>0</td>\n",
       "      <td>0</td>\n",
       "      <td>-0.057858</td>\n",
       "      <td>0</td>\n",
       "      <td>0</td>\n",
       "      <td>0</td>\n",
       "      <td>1</td>\n",
       "      <td>1</td>\n",
       "      <td>0</td>\n",
       "      <td>...</td>\n",
       "      <td>0.0</td>\n",
       "      <td>0.0</td>\n",
       "      <td>1.0</td>\n",
       "      <td>0.0</td>\n",
       "      <td>0.0</td>\n",
       "      <td>0.0</td>\n",
       "      <td>0.0</td>\n",
       "      <td>0.0</td>\n",
       "      <td>0.0</td>\n",
       "      <td>0.0</td>\n",
       "    </tr>\n",
       "    <tr>\n",
       "      <th>253678</th>\n",
       "      <td>0</td>\n",
       "      <td>1</td>\n",
       "      <td>0</td>\n",
       "      <td>-0.814437</td>\n",
       "      <td>0</td>\n",
       "      <td>0</td>\n",
       "      <td>0</td>\n",
       "      <td>0</td>\n",
       "      <td>1</td>\n",
       "      <td>1</td>\n",
       "      <td>...</td>\n",
       "      <td>0.0</td>\n",
       "      <td>0.0</td>\n",
       "      <td>0.0</td>\n",
       "      <td>1.0</td>\n",
       "      <td>0.0</td>\n",
       "      <td>0.0</td>\n",
       "      <td>0.0</td>\n",
       "      <td>0.0</td>\n",
       "      <td>0.0</td>\n",
       "      <td>0.0</td>\n",
       "    </tr>\n",
       "    <tr>\n",
       "      <th>253679</th>\n",
       "      <td>1</td>\n",
       "      <td>1</td>\n",
       "      <td>1</td>\n",
       "      <td>-0.511805</td>\n",
       "      <td>0</td>\n",
       "      <td>0</td>\n",
       "      <td>1</td>\n",
       "      <td>1</td>\n",
       "      <td>1</td>\n",
       "      <td>0</td>\n",
       "      <td>...</td>\n",
       "      <td>0.0</td>\n",
       "      <td>0.0</td>\n",
       "      <td>0.0</td>\n",
       "      <td>1.0</td>\n",
       "      <td>0.0</td>\n",
       "      <td>0.0</td>\n",
       "      <td>0.0</td>\n",
       "      <td>0.0</td>\n",
       "      <td>0.0</td>\n",
       "      <td>0.0</td>\n",
       "    </tr>\n",
       "  </tbody>\n",
       "</table>\n",
       "<p>253680 rows × 38 columns</p>\n",
       "</div>"
      ],
      "text/plain": [
       "        Diabetes  HighBP  HighChol       BMI  Smoker  Stroke  Myocardial  \\\n",
       "0              0       1         1  1.757932       1       0           0   \n",
       "1              0       0         0 -0.511805       1       0           0   \n",
       "2              0       1         1 -0.057858       0       0           0   \n",
       "3              0       1         0 -0.209173       0       0           0   \n",
       "4              0       1         1 -0.663121       0       0           0   \n",
       "...          ...     ...       ...       ...     ...     ...         ...   \n",
       "253675         0       1         1  2.514511       0       0           0   \n",
       "253676         1       1         1 -1.571016       0       0           0   \n",
       "253677         0       0         0 -0.057858       0       0           0   \n",
       "253678         0       1         0 -0.814437       0       0           0   \n",
       "253679         1       1         1 -0.511805       0       0           1   \n",
       "\n",
       "        PhysActivity  Fruit  Vegetables  ...  Gemini  Cancer  Leo  Virgo  \\\n",
       "0                  0      0           1  ...     0.0     0.0  0.0    0.0   \n",
       "1                  1      0           0  ...     0.0     0.0  0.0    0.0   \n",
       "2                  0      1           0  ...     0.0     0.0  0.0    0.0   \n",
       "3                  1      1           1  ...     0.0     0.0  0.0    0.0   \n",
       "4                  1      1           1  ...     0.0     0.0  0.0    0.0   \n",
       "...              ...    ...         ...  ...     ...     ...  ...    ...   \n",
       "253675             0      1           1  ...     0.0     0.0  0.0    0.0   \n",
       "253676             0      0           0  ...     0.0     0.0  0.0    1.0   \n",
       "253677             1      1           0  ...     0.0     0.0  1.0    0.0   \n",
       "253678             0      1           1  ...     0.0     0.0  0.0    1.0   \n",
       "253679             1      1           0  ...     0.0     0.0  0.0    1.0   \n",
       "\n",
       "        Libra  Scorpio  Sagittarius  Capricorn  Aquarius  Pisces  \n",
       "0         0.0      0.0          0.0        1.0       0.0     0.0  \n",
       "1         0.0      0.0          0.0        0.0       1.0     0.0  \n",
       "2         0.0      0.0          0.0        0.0       0.0     0.0  \n",
       "3         0.0      0.0          0.0        0.0       1.0     0.0  \n",
       "4         0.0      1.0          0.0        0.0       0.0     0.0  \n",
       "...       ...      ...          ...        ...       ...     ...  \n",
       "253675    0.0      0.0          0.0        0.0       1.0     0.0  \n",
       "253676    0.0      0.0          0.0        0.0       0.0     0.0  \n",
       "253677    0.0      0.0          0.0        0.0       0.0     0.0  \n",
       "253678    0.0      0.0          0.0        0.0       0.0     0.0  \n",
       "253679    0.0      0.0          0.0        0.0       0.0     0.0  \n",
       "\n",
       "[253680 rows x 38 columns]"
      ]
     },
     "execution_count": 7,
     "metadata": {},
     "output_type": "execute_result"
    }
   ],
   "source": [
    "df"
   ]
  },
  {
   "cell_type": "markdown",
   "id": "24579028",
   "metadata": {},
   "source": [
    "# Question 1"
   ]
  },
  {
   "cell_type": "code",
   "execution_count": 8,
   "id": "7d39a224",
   "metadata": {},
   "outputs": [],
   "source": [
    "X_df_1 = df.drop(\"Diabetes\", axis=1)\n",
    "y_df_1 = df[\"Diabetes\"]\n",
    "X_train, X_test, y_train, y_test = model_selection.train_test_split(X_df_1, y_df_1, test_size = 0.3, random_state = 0)"
   ]
  },
  {
   "cell_type": "code",
   "execution_count": 9,
   "id": "603bd8df",
   "metadata": {},
   "outputs": [
    {
     "data": {
      "image/png": "[encoded data removed]",
      "text/plain": [
       "<Figure size 432x288 with 1 Axes>"
      ]
     },
     "metadata": {
      "needs_background": "light"
     },
     "output_type": "display_data"
    },
    {
     "name": "stdout",
     "output_type": "stream",
     "text": [
      "The accuracy for Perceptron is 86.093%\n",
      "AUC = 0.80945\n"
     ]
    }
   ],
   "source": [
    "perceptron = Perceptron(penalty='l1', tol=1e-3, random_state=0)\n",
    "perceptron = CalibratedClassifierCV(perceptron)\n",
    "perceptron.fit(X_train, y_train)\n",
    "probs = perceptron.predict_proba(X_test)\n",
    "probs = probs[:, 1]\n",
    "auc = metrics.roc_auc_score(y_test, probs)\n",
    "fpr, tpr, _ = metrics.roc_curve(y_test, probs)\n",
    "plt.plot(fpr, tpr, marker='.', label='Perceptron')\n",
    "plt.xlabel('False Positive Rate')\n",
    "plt.ylabel('True Positive Rate')\n",
    "plt.title('Perceptron')\n",
    "plt.legend()\n",
    "plt.show()\n",
    "accuracy = perceptron.score(X_test, y_test)\n",
    "print('The accuracy for Perceptron is {:0.3f}%'.format(100*accuracy))\n",
    "print('AUC = %.5f' % (auc))"
   ]
  },
  {
   "cell_type": "markdown",
   "id": "03de36aa",
   "metadata": {},
   "source": [
    "# Question 2"
   ]
  },
  {
   "cell_type": "code",
   "execution_count": 10,
   "id": "db479212",
   "metadata": {},
   "outputs": [],
   "source": [
    "X_df_2 = df.drop(\"Diabetes\", axis=1)\n",
    "y_df_2 = df[\"Diabetes\"]\n",
    "X_train, X_test, y_train, y_test = model_selection.train_test_split(X_df_2, y_df_2, test_size = 0.3, random_state = 0)"
   ]
  },
  {
   "cell_type": "code",
   "execution_count": 11,
   "id": "32234c34",
   "metadata": {},
   "outputs": [
    {
     "data": {
      "image/png": "[encoded data removed]",
      "text/plain": [
       "<Figure size 432x288 with 1 Axes>"
      ]
     },
     "metadata": {
      "needs_background": "light"
     },
     "output_type": "display_data"
    },
    {
     "name": "stdout",
     "output_type": "stream",
     "text": [
      "The accuracy for MLP is 86.559%\n",
      "AUC = 0.57638\n"
     ]
    }
   ],
   "source": [
    "mlp_no_act = MLPClassifier(hidden_layer_sizes=(10), max_iter=10000, random_state=0)  \n",
    "mlp_no_act.fit(X_train, y_train)  \n",
    "predictions = mlp_no_act.predict(X_test) \n",
    "auc = metrics.roc_auc_score(y_test, predictions)\n",
    "fpr, tpr, _ = metrics.roc_curve(y_test, predictions)\n",
    "plt.plot(fpr, tpr, marker='.', label='MLP - No Activation')\n",
    "plt.xlabel('False Positive Rate')\n",
    "plt.ylabel('True Positive Rate')\n",
    "plt.title('MLP - No Activation')\n",
    "plt.legend()\n",
    "plt.show()\n",
    "accuracy = mlp_no_act.score(X_test, y_test)\n",
    "print('The accuracy for MLP is {:0.3f}%'.format(100*accuracy))\n",
    "print('AUC = %.5f' % (auc))"
   ]
  },
  {
   "cell_type": "code",
   "execution_count": 12,
   "id": "c25f28f8",
   "metadata": {},
   "outputs": [
    {
     "data": {
      "image/png": "[encoded data removed]",
      "text/plain": [
       "<Figure size 432x288 with 1 Axes>"
      ]
     },
     "metadata": {
      "needs_background": "light"
     },
     "output_type": "display_data"
    },
    {
     "name": "stdout",
     "output_type": "stream",
     "text": [
      "The accuracy for MLP is 86.559%\n",
      "AUC = 0.83061\n"
     ]
    }
   ],
   "source": [
    "mlp_relu = MLPClassifier(hidden_layer_sizes=(10), max_iter=10000, activation='relu', random_state=0)  \n",
    "mlp_relu.fit(X_train, y_train)\n",
    "predictions = mlp_relu.predict_proba(X_test) \n",
    "predictions = predictions[:, 1]\n",
    "auc = metrics.roc_auc_score(y_test, predictions)\n",
    "fpr, tpr, _ = metrics.roc_curve(y_test, predictions)\n",
    "plt.plot(fpr, tpr, marker='.', label='MLP - Relu')\n",
    "plt.xlabel('False Positive Rate')\n",
    "plt.ylabel('True Positive Rate')\n",
    "plt.title('MLP - Relu')\n",
    "plt.legend()\n",
    "plt.show()\n",
    "accuracy = mlp_relu.score(X_test, y_test)\n",
    "print('The accuracy for MLP is {:0.3f}%'.format(100*accuracy))\n",
    "print('AUC = %.5f' % (auc))"
   ]
  },
  {
   "cell_type": "code",
   "execution_count": 13,
   "id": "13f42253",
   "metadata": {},
   "outputs": [
    {
     "data": {
      "image/png": "[encoded data removed]",
      "text/plain": [
       "<Figure size 432x288 with 1 Axes>"
      ]
     },
     "metadata": {
      "needs_background": "light"
     },
     "output_type": "display_data"
    },
    {
     "name": "stdout",
     "output_type": "stream",
     "text": [
      "The accuracy for MLP is 86.321%\n",
      "AUC = 0.82290\n"
     ]
    }
   ],
   "source": [
    "mlp_identity = MLPClassifier(hidden_layer_sizes=(10), activation='identity', max_iter=10000, random_state=0)  \n",
    "mlp_identity.fit(X_train, y_train)\n",
    "predictions = mlp_identity.predict_proba(X_test) \n",
    "predictions = predictions[:, 1]\n",
    "auc = metrics.roc_auc_score(y_test, predictions)\n",
    "fpr, tpr, _ = metrics.roc_curve(y_test, predictions)\n",
    "plt.plot(fpr, tpr, marker='.', label='MLP - Identity')\n",
    "plt.xlabel('False Positive Rate')\n",
    "plt.ylabel('True Positive Rate')\n",
    "plt.title('MLP - Identity')\n",
    "plt.legend()\n",
    "plt.show()\n",
    "accuracy = mlp_identity.score(X_test, y_test)\n",
    "print('The accuracy for MLP is {:0.3f}%'.format(100*accuracy))\n",
    "print('AUC = %.5f' % (auc))"
   ]
  },
  {
   "cell_type": "code",
   "execution_count": 14,
   "id": "dde442b1",
   "metadata": {},
   "outputs": [
    {
     "data": {
      "image/png": "[encoded data removed]",
      "text/plain": [
       "<Figure size 432x288 with 1 Axes>"
      ]
     },
     "metadata": {
      "needs_background": "light"
     },
     "output_type": "display_data"
    },
    {
     "name": "stdout",
     "output_type": "stream",
     "text": [
      "The accuracy for MLP is 86.597%\n",
      "AUC = 0.83140\n"
     ]
    }
   ],
   "source": [
    "mlp_tanh = MLPClassifier(hidden_layer_sizes=(10), activation='tanh', max_iter=10000, random_state=0)  \n",
    "mlp_tanh.fit(X_train, y_train)  \n",
    "predictions = mlp_tanh.predict_proba(X_test) \n",
    "predictions = predictions[:, 1]\n",
    "auc = metrics.roc_auc_score(y_test, predictions)\n",
    "fpr, tpr, _ = metrics.roc_curve(y_test, predictions)\n",
    "plt.plot(fpr, tpr, marker='.', label='MLP - Tanh')\n",
    "plt.xlabel('False Positive Rate')\n",
    "plt.ylabel('True Positive Rate')\n",
    "plt.title('MLP - Tanh')\n",
    "plt.legend()\n",
    "plt.show()\n",
    "accuracy = mlp_tanh.score(X_test, y_test)\n",
    "print('The accuracy for MLP is {:0.3f}%'.format(100*accuracy))\n",
    "print('AUC = %.5f' % (auc))"
   ]
  },
  {
   "cell_type": "code",
   "execution_count": 15,
   "id": "25f088e2",
   "metadata": {},
   "outputs": [
    {
     "data": {
      "image/png": "[encoded data removed]",
      "text/plain": [
       "<Figure size 432x288 with 1 Axes>"
      ]
     },
     "metadata": {
      "needs_background": "light"
     },
     "output_type": "display_data"
    },
    {
     "name": "stdout",
     "output_type": "stream",
     "text": [
      "The accuracy for MLP is 86.617%\n",
      "AUC = 0.83111\n"
     ]
    }
   ],
   "source": [
    "mlp_sigmoid = MLPClassifier(hidden_layer_sizes=(10), activation='logistic', max_iter=10000, random_state=0)  \n",
    "mlp_sigmoid.fit(X_train, y_train)  \n",
    "predictions = mlp_sigmoid.predict_proba(X_test) \n",
    "predictions = predictions[:, 1]\n",
    "auc = metrics.roc_auc_score(y_test, predictions)\n",
    "fpr, tpr, _ = metrics.roc_curve(y_test, predictions)\n",
    "plt.plot(fpr, tpr, marker='.', label='MLP - Sigmoid')\n",
    "plt.xlabel('False Positive Rate')\n",
    "plt.ylabel('True Positive Rate')\n",
    "plt.title('MLP - Sigmoid')\n",
    "plt.legend()\n",
    "plt.show()\n",
    "accuracy = mlp_sigmoid.score(X_test, y_test)\n",
    "print('The accuracy for MLP is {:0.3f}%'.format(100*accuracy))\n",
    "print('AUC = %.5f' % (auc))"
   ]
  },
  {
   "cell_type": "code",
   "execution_count": 16,
   "id": "36193833",
   "metadata": {},
   "outputs": [
    {
     "data": {
      "image/png": "[encoded data removed]",
      "text/plain": [
       "<Figure size 432x288 with 1 Axes>"
      ]
     },
     "metadata": {
      "needs_background": "light"
     },
     "output_type": "display_data"
    },
    {
     "name": "stdout",
     "output_type": "stream",
     "text": [
      "The accuracy for MLP is 86.593%\n",
      "AUC = 0.83159\n"
     ]
    }
   ],
   "source": [
    "mlp_sigmoid_2 = MLPClassifier(hidden_layer_sizes=(10,10), activation='logistic', max_iter=10000, random_state=0)  \n",
    "mlp_sigmoid_2.fit(X_train, y_train)  \n",
    "predictions = mlp_sigmoid_2.predict_proba(X_test) \n",
    "predictions = predictions[:, 1]\n",
    "auc = metrics.roc_auc_score(y_test, predictions)\n",
    "fpr, tpr, _ = metrics.roc_curve(y_test, predictions)\n",
    "plt.plot(fpr, tpr, marker='.', label='MLP - Sigmoid, 2 hidden layers')\n",
    "plt.xlabel('False Positive Rate')\n",
    "plt.ylabel('True Positive Rate')\n",
    "plt.title('MLP - Sigmoid, 2 hidden layers')\n",
    "plt.legend()\n",
    "plt.show()\n",
    "accuracy = mlp_sigmoid_2.score(X_test, y_test)\n",
    "print('The accuracy for MLP is {:0.3f}%'.format(100*accuracy))\n",
    "print('AUC = %.5f' % (auc))"
   ]
  },
  {
   "cell_type": "code",
   "execution_count": 17,
   "id": "4f0a3539",
   "metadata": {},
   "outputs": [
    {
     "data": {
      "image/png": "[encoded data removed]",
      "text/plain": [
       "<Figure size 432x288 with 1 Axes>"
      ]
     },
     "metadata": {
      "needs_background": "light"
     },
     "output_type": "display_data"
    },
    {
     "name": "stdout",
     "output_type": "stream",
     "text": [
      "The accuracy for MLP is 86.592%\n",
      "AUC = 0.83178\n"
     ]
    }
   ],
   "source": [
    "mlp_sigmoid_3 = MLPClassifier(hidden_layer_sizes=(10,10,10), activation='logistic', max_iter=10000, random_state=0)  \n",
    "mlp_sigmoid_3.fit(X_train, y_train)  \n",
    "predictions = mlp_sigmoid_3.predict_proba(X_test) \n",
    "predictions = predictions[:, 1]\n",
    "auc = metrics.roc_auc_score(y_test, predictions)\n",
    "fpr, tpr, _ = metrics.roc_curve(y_test, predictions)\n",
    "plt.plot(fpr, tpr, marker='.', label='MLP - Sigmoid, 3 hidden layers')\n",
    "plt.xlabel('False Positive Rate')\n",
    "plt.ylabel('True Positive Rate')\n",
    "plt.title('MLP - Sigmoid, 3 hidden layers')\n",
    "plt.legend()\n",
    "plt.show()\n",
    "accuracy = mlp_sigmoid_3.score(X_test, y_test)\n",
    "print('The accuracy for MLP is {:0.3f}%'.format(100*accuracy))\n",
    "print('AUC = %.5f' % (auc))"
   ]
  },
  {
   "cell_type": "code",
   "execution_count": 18,
   "id": "7a1aafb1",
   "metadata": {},
   "outputs": [
    {
     "data": {
      "image/png": "[encoded data removed]",
      "text/plain": [
       "<Figure size 432x288 with 1 Axes>"
      ]
     },
     "metadata": {
      "needs_background": "light"
     },
     "output_type": "display_data"
    },
    {
     "name": "stdout",
     "output_type": "stream",
     "text": [
      "The accuracy for MLP is 86.596%\n",
      "AUC = 0.57900\n"
     ]
    }
   ],
   "source": [
    "mlp_no_act_2 = MLPClassifier(hidden_layer_sizes=(10,10), max_iter=10000, random_state=0)  \n",
    "mlp_no_act_2.fit(X_train, y_train)  \n",
    "predictions = mlp_no_act_2.predict(X_test) \n",
    "auc = metrics.roc_auc_score(y_test, predictions)\n",
    "fpr, tpr, _ = metrics.roc_curve(y_test, predictions)\n",
    "plt.plot(fpr, tpr, marker='.', label='MLP - No Activation, 2 hidden layers')\n",
    "plt.xlabel('False Positive Rate')\n",
    "plt.ylabel('True Positive Rate')\n",
    "plt.title('MLP - No Activation, 2 hidden layers')\n",
    "plt.legend()\n",
    "plt.show()\n",
    "accuracy = mlp_no_act_2.score(X_test, y_test)\n",
    "print('The accuracy for MLP is {:0.3f}%'.format(100*accuracy))\n",
    "print('AUC = %.5f' % (auc))"
   ]
  },
  {
   "cell_type": "code",
   "execution_count": 19,
   "id": "803a044e",
   "metadata": {},
   "outputs": [
    {
     "data": {
      "image/png": "[encoded data removed]",
      "text/plain": [
       "<Figure size 432x288 with 1 Axes>"
      ]
     },
     "metadata": {
      "needs_background": "light"
     },
     "output_type": "display_data"
    },
    {
     "name": "stdout",
     "output_type": "stream",
     "text": [
      "The accuracy for MLP is 86.614%\n",
      "AUC = 0.57321\n"
     ]
    }
   ],
   "source": [
    "mlp_no_act_3 = MLPClassifier(hidden_layer_sizes=(10,10,10), max_iter=10000, random_state=0)  \n",
    "mlp_no_act_3.fit(X_train, y_train)  \n",
    "predictions = mlp_no_act_3.predict(X_test) \n",
    "auc = metrics.roc_auc_score(y_test, predictions)\n",
    "fpr, tpr, _ = metrics.roc_curve(y_test, predictions)\n",
    "plt.plot(fpr, tpr, marker='.', label='MLP - No Activation, 3 hidden layers')\n",
    "plt.xlabel('False Positive Rate')\n",
    "plt.ylabel('True Positive Rate')\n",
    "plt.title('MLP - No Activation, 3 hidden layers')\n",
    "plt.legend()\n",
    "plt.show()\n",
    "accuracy = mlp_no_act_3.score(X_test, y_test)\n",
    "print('The accuracy for MLP is {:0.3f}%'.format(100*accuracy))\n",
    "print('AUC = %.5f' % (auc))"
   ]
  },
  {
   "cell_type": "markdown",
   "id": "82980ce9",
   "metadata": {},
   "source": [
    "# Question 3"
   ]
  },
  {
   "cell_type": "code",
   "execution_count": 20,
   "id": "a29a7f30",
   "metadata": {},
   "outputs": [],
   "source": [
    "X_df_3 = df.drop(\"Diabetes\", axis=1)\n",
    "y_df_3 = df[\"Diabetes\"]\n",
    "X_train, X_test, y_train, y_test = model_selection.train_test_split(X_df_3, y_df_3, test_size = 0.3, random_state = 0)"
   ]
  },
  {
   "cell_type": "code",
   "execution_count": 21,
   "id": "d21ab417",
   "metadata": {},
   "outputs": [
    {
     "data": {
      "image/png": "[encoded data removed]",
      "text/plain": [
       "<Figure size 432x288 with 1 Axes>"
      ]
     },
     "metadata": {
      "needs_background": "light"
     },
     "output_type": "display_data"
    },
    {
     "name": "stdout",
     "output_type": "stream",
     "text": [
      "The accuracy for MLP is 86.593%\n",
      "AUC = 0.83159\n"
     ]
    }
   ],
   "source": [
    "mlp_sigmoid_2 = MLPClassifier(hidden_layer_sizes=(10,10), activation='logistic', max_iter=10000, random_state=0)  \n",
    "mlp_sigmoid_2.fit(X_train, y_train)  \n",
    "predictions = mlp_sigmoid_2.predict_proba(X_test) \n",
    "predictions = predictions[:, 1]\n",
    "auc = metrics.roc_auc_score(y_test, predictions)\n",
    "fpr, tpr, _ = metrics.roc_curve(y_test, predictions)\n",
    "plt.plot(fpr, tpr, marker='.', label='MLP - Sigmoid, 2 hidden layers')\n",
    "plt.xlabel('False Positive Rate')\n",
    "plt.ylabel('True Positive Rate')\n",
    "plt.title('MLP - Sigmoid, 2 hidden layers')\n",
    "plt.legend()\n",
    "plt.show()\n",
    "accuracy = mlp_sigmoid_2.score(X_test, y_test)\n",
    "print('The accuracy for MLP is {:0.3f}%'.format(100*accuracy))\n",
    "print('AUC = %.5f' % (auc))"
   ]
  },
  {
   "cell_type": "code",
   "execution_count": 22,
   "id": "aad80333",
   "metadata": {},
   "outputs": [
    {
     "data": {
      "image/png": "[encoded data removed]",
      "text/plain": [
       "<Figure size 432x288 with 1 Axes>"
      ]
     },
     "metadata": {
      "needs_background": "light"
     },
     "output_type": "display_data"
    },
    {
     "name": "stdout",
     "output_type": "stream",
     "text": [
      "The accuracy for MLP is 86.592%\n",
      "AUC = 0.83178\n"
     ]
    }
   ],
   "source": [
    "mlp_sigmoid_3 = MLPClassifier(hidden_layer_sizes=(10,10,10), activation='logistic', max_iter=10000, random_state=0)  \n",
    "mlp_sigmoid_3.fit(X_train, y_train)  \n",
    "predictions = mlp_sigmoid_3.predict_proba(X_test) \n",
    "predictions = predictions[:, 1]\n",
    "auc = metrics.roc_auc_score(y_test, predictions)\n",
    "fpr, tpr, _ = metrics.roc_curve(y_test, predictions)\n",
    "plt.plot(fpr, tpr, marker='.', label='MLP - Sigmoid, 3 hidden layers')\n",
    "plt.xlabel('False Positive Rate')\n",
    "plt.ylabel('True Positive Rate')\n",
    "plt.title('MLP - Sigmoid, 3 hidden layers')\n",
    "plt.legend()\n",
    "plt.show()\n",
    "accuracy = mlp_sigmoid_3.score(X_test, y_test)\n",
    "print('The accuracy for MLP is {:0.3f}%'.format(100*accuracy))\n",
    "print('AUC = %.5f' % (auc))"
   ]
  },
  {
   "cell_type": "markdown",
   "id": "7a9694dc",
   "metadata": {},
   "source": [
    "# Question 4"
   ]
  },
  {
   "cell_type": "code",
   "execution_count": 23,
   "id": "32199a67",
   "metadata": {},
   "outputs": [],
   "source": [
    "X_df_4 = df.drop(\"BMI\", axis=1)\n",
    "y_df_4 = df[\"BMI\"]\n",
    "X_train, X_test, y_train, y_test = model_selection.train_test_split(X_df_4, y_df_4, test_size = 0.3, random_state = 0)"
   ]
  },
  {
   "cell_type": "code",
   "execution_count": 24,
   "id": "0ddd2b57",
   "metadata": {},
   "outputs": [
    {
     "data": {
      "text/plain": [
       "0.8216374441134272"
      ]
     },
     "execution_count": 24,
     "metadata": {},
     "output_type": "execute_result"
    }
   ],
   "source": [
    "mlp_sigmoid = MLPRegressor(hidden_layer_sizes=(10), activation='logistic', max_iter=10000, random_state=0)  \n",
    "mlp_sigmoid.fit(X_train, y_train) \n",
    "predictions = mlp_sigmoid.predict(X_test)\n",
    "accuracy = metrics.mean_squared_error(y_test, predictions)\n",
    "accuracy"
   ]
  },
  {
   "cell_type": "code",
   "execution_count": 25,
   "id": "34c8eadd",
   "metadata": {},
   "outputs": [
    {
     "data": {
      "text/plain": [
       "0.8578617291599534"
      ]
     },
     "execution_count": 25,
     "metadata": {},
     "output_type": "execute_result"
    }
   ],
   "source": [
    "mlp_identity = MLPRegressor(hidden_layer_sizes=(10), activation='identity', max_iter=10000, random_state=0)  \n",
    "mlp_identity.fit(X_train, y_train) \n",
    "predictions = mlp_identity.predict(X_test)\n",
    "accuracy = metrics.mean_squared_error(y_test, predictions)\n",
    "accuracy"
   ]
  },
  {
   "cell_type": "code",
   "execution_count": 26,
   "id": "11e195d2",
   "metadata": {},
   "outputs": [
    {
     "data": {
      "text/plain": [
       "0.8195920025755244"
      ]
     },
     "execution_count": 26,
     "metadata": {},
     "output_type": "execute_result"
    }
   ],
   "source": [
    "mlp_tanh = MLPRegressor(hidden_layer_sizes=(10), activation='tanh', max_iter=10000, random_state=0)  \n",
    "mlp_tanh.fit(X_train, y_train) \n",
    "predictions = mlp_tanh.predict(X_test)\n",
    "accuracy = metrics.mean_squared_error(y_test, predictions)\n",
    "accuracy"
   ]
  },
  {
   "cell_type": "code",
   "execution_count": 27,
   "id": "7ae8e76d",
   "metadata": {},
   "outputs": [
    {
     "data": {
      "text/plain": [
       "0.8250421663974333"
      ]
     },
     "execution_count": 27,
     "metadata": {},
     "output_type": "execute_result"
    }
   ],
   "source": [
    "mlp_relu = MLPRegressor(hidden_layer_sizes=(10), activation='relu', max_iter=10000, random_state=0)  \n",
    "mlp_relu.fit(X_train, y_train) \n",
    "predictions = mlp_relu.predict(X_test)\n",
    "accuracy = metrics.mean_squared_error(y_test, predictions)\n",
    "accuracy"
   ]
  },
  {
   "cell_type": "markdown",
   "id": "1b75d26d",
   "metadata": {},
   "source": [
    "# Question 5"
   ]
  },
  {
   "cell_type": "code",
   "execution_count": 28,
   "id": "cef44f25",
   "metadata": {},
   "outputs": [],
   "source": [
    "X_df_5 = df.drop(\"BMI\", axis=1)\n",
    "y_df_5 = df[\"BMI\"]\n",
    "X_train, X_test, y_train, y_test = model_selection.train_test_split(X_df_5, y_df_5, test_size = 0.3, random_state = 0)"
   ]
  },
  {
   "cell_type": "code",
   "execution_count": 29,
   "id": "18a4e04d",
   "metadata": {},
   "outputs": [
    {
     "data": {
      "text/plain": [
       "0.8207124566433445"
      ]
     },
     "execution_count": 29,
     "metadata": {},
     "output_type": "execute_result"
    }
   ],
   "source": [
    "mlp_sigmoid_10 = MLPRegressor(hidden_layer_sizes=(10,10), activation='logistic', max_iter=10000, random_state=0)  \n",
    "mlp_sigmoid_10.fit(X_train, y_train) \n",
    "predictions = mlp_sigmoid_10.predict(X_test) \n",
    "accuracy = metrics.mean_squared_error(y_test, predictions)\n",
    "accuracy"
   ]
  },
  {
   "cell_type": "code",
   "execution_count": 30,
   "id": "823d703c",
   "metadata": {},
   "outputs": [
    {
     "data": {
      "text/plain": [
       "0.8190709457000241"
      ]
     },
     "execution_count": 30,
     "metadata": {},
     "output_type": "execute_result"
    }
   ],
   "source": [
    "mlp_sigmoid_15 = MLPRegressor(hidden_layer_sizes=(15,15), activation='logistic', max_iter=10000, random_state=0)  \n",
    "mlp_sigmoid_15.fit(X_train, y_train) \n",
    "predictions = mlp_sigmoid_15.predict(X_test) \n",
    "accuracy = metrics.mean_squared_error(y_test, predictions)\n",
    "accuracy"
   ]
  },
  {
   "cell_type": "code",
   "execution_count": 31,
   "id": "493a2fea",
   "metadata": {},
   "outputs": [
    {
     "data": {
      "text/plain": [
       "0.817375398379225"
      ]
     },
     "execution_count": 31,
     "metadata": {},
     "output_type": "execute_result"
    }
   ],
   "source": [
    "mlp_sigmoid_30 = MLPRegressor(hidden_layer_sizes=(30,30), activation='logistic', max_iter=10000, random_state=0)  \n",
    "mlp_sigmoid_30.fit(X_train, y_train) \n",
    "predictions = mlp_sigmoid_30.predict(X_test) \n",
    "accuracy = metrics.mean_squared_error(y_test, predictions)\n",
    "accuracy"
   ]
  },
  {
   "cell_type": "markdown",
   "id": "30d86dc0",
   "metadata": {},
   "source": [
    "# Extra Credit"
   ]
  },
  {
   "cell_type": "code",
   "execution_count": 32,
   "id": "98856e11",
   "metadata": {},
   "outputs": [],
   "source": [
    "X_df_ec = df.drop(\"Diabetes\", axis=1)\n",
    "y_df_ec = df[\"Diabetes\"]\n",
    "X_train, X_test, y_train, y_test = model_selection.train_test_split(X_df_ec, y_df_ec, test_size = 0.3, random_state = 0)"
   ]
  },
  {
   "cell_type": "code",
   "execution_count": 33,
   "id": "41caddd0",
   "metadata": {},
   "outputs": [
    {
     "name": "stdout",
     "output_type": "stream",
     "text": [
      "The accuracy for MLP is 86.596%\n"
     ]
    }
   ],
   "source": [
    "mlp_baseline = MLPClassifier(hidden_layer_sizes=(10, 10), max_iter=10000, random_state=0)  \n",
    "mlp_baseline.fit(X_train, y_train)  \n",
    "accuracy = mlp_baseline.score(X_test, y_test)\n",
    "print('The accuracy for MLP is {:0.3f}%'.format(100*accuracy))"
   ]
  },
  {
   "cell_type": "code",
   "execution_count": 34,
   "id": "b20734cc",
   "metadata": {},
   "outputs": [
    {
     "name": "stdout",
     "output_type": "stream",
     "text": [
      "Index(['HighBP', 'HighChol', 'BMI', 'Smoker', 'Stroke', 'Myocardial',\n",
      "       'PhysActivity', 'HeavyDrinker', 'GeneralHealth', 'MentalHealth',\n",
      "       'PhysicalHealth', 'HardToClimbStairs', 'BiologicalSex', 'AgeBracket',\n",
      "       'IncomeBracket'],\n",
      "      dtype='object')\n"
     ]
    }
   ],
   "source": [
    "mlp_best = MLPClassifier(hidden_layer_sizes=(10, 10), max_iter=10000, random_state=0)\n",
    "estimator = Lasso(alpha=0.001, random_state=42)\n",
    "selector = SelectFromModel(estimator)\n",
    "selector.fit(X_df_ec, y_df_ec)\n",
    "selected_features = X_df_ec.columns[selector.get_support()]\n",
    "print(selected_features)\n",
    "X_df_ec = selector.transform(X_df_ec)"
   ]
  },
  {
   "cell_type": "code",
   "execution_count": 35,
   "id": "a091663e",
   "metadata": {},
   "outputs": [
    {
     "name": "stdout",
     "output_type": "stream",
     "text": [
      "The accuracy for MLP is 86.641%\n"
     ]
    }
   ],
   "source": [
    "X_train, X_test, y_train, y_test = model_selection.train_test_split(X_df_ec, y_df_ec, test_size = 0.3, random_state = 0)\n",
    "mlp_best.fit(X_train, y_train)\n",
    "accuracy = mlp_best.score(X_test, y_test)\n",
    "print('The accuracy for MLP is {:0.3f}%'.format(100*accuracy))"
   ]
  }
 ],
 "metadata": {
  "kernelspec": {
   "display_name": "Python 3 (ipykernel)",
   "language": "python",
   "name": "python3"
  },
  "language_info": {
   "codemirror_mode": {
    "name": "ipython",
    "version": 3
   },
   "file_extension": ".py",
   "mimetype": "text/x-python",
   "name": "python",
   "nbconvert_exporter": "python",
   "pygments_lexer": "ipython3",
   "version": "3.8.8"
  }
 },
 "nbformat": 4,
 "nbformat_minor": 5
}
